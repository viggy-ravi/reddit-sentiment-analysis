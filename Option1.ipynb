{
 "cells": [
  {
   "cell_type": "code",
   "execution_count": 2,
   "metadata": {},
   "outputs": [],
   "source": [
    "import pandas as pd\n",
    "import numpy as np\n",
    "\n",
    "pd.set_option('display.max_colwidth', None)"
   ]
  },
  {
   "cell_type": "markdown",
   "metadata": {},
   "source": [
    "# Get Data and Glimpse"
   ]
  },
  {
   "cell_type": "code",
   "execution_count": 11,
   "metadata": {},
   "outputs": [
    {
     "data": {
      "text/html": [
       "<div>\n",
       "<style scoped>\n",
       "    .dataframe tbody tr th:only-of-type {\n",
       "        vertical-align: middle;\n",
       "    }\n",
       "\n",
       "    .dataframe tbody tr th {\n",
       "        vertical-align: top;\n",
       "    }\n",
       "\n",
       "    .dataframe thead th {\n",
       "        text-align: right;\n",
       "    }\n",
       "</style>\n",
       "<table border=\"1\" class=\"dataframe\">\n",
       "  <thead>\n",
       "    <tr style=\"text-align: right;\">\n",
       "      <th></th>\n",
       "      <th>time_created</th>\n",
       "      <th>date_created</th>\n",
       "      <th>up_votes</th>\n",
       "      <th>down_votes</th>\n",
       "      <th>title</th>\n",
       "      <th>over_18</th>\n",
       "      <th>author</th>\n",
       "      <th>category</th>\n",
       "    </tr>\n",
       "  </thead>\n",
       "  <tbody>\n",
       "    <tr>\n",
       "      <th>0</th>\n",
       "      <td>1201232046</td>\n",
       "      <td>2008-01-25</td>\n",
       "      <td>3</td>\n",
       "      <td>0</td>\n",
       "      <td>Scores killed in Pakistan clashes</td>\n",
       "      <td>False</td>\n",
       "      <td>polar</td>\n",
       "      <td>worldnews</td>\n",
       "    </tr>\n",
       "    <tr>\n",
       "      <th>1</th>\n",
       "      <td>1201232075</td>\n",
       "      <td>2008-01-25</td>\n",
       "      <td>2</td>\n",
       "      <td>0</td>\n",
       "      <td>Japan resumes refuelling mission</td>\n",
       "      <td>False</td>\n",
       "      <td>polar</td>\n",
       "      <td>worldnews</td>\n",
       "    </tr>\n",
       "    <tr>\n",
       "      <th>2</th>\n",
       "      <td>1201232523</td>\n",
       "      <td>2008-01-25</td>\n",
       "      <td>3</td>\n",
       "      <td>0</td>\n",
       "      <td>US presses Egypt on Gaza border</td>\n",
       "      <td>False</td>\n",
       "      <td>polar</td>\n",
       "      <td>worldnews</td>\n",
       "    </tr>\n",
       "    <tr>\n",
       "      <th>3</th>\n",
       "      <td>1201233290</td>\n",
       "      <td>2008-01-25</td>\n",
       "      <td>1</td>\n",
       "      <td>0</td>\n",
       "      <td>Jump-start economy: Give health care to all</td>\n",
       "      <td>False</td>\n",
       "      <td>fadi420</td>\n",
       "      <td>worldnews</td>\n",
       "    </tr>\n",
       "    <tr>\n",
       "      <th>4</th>\n",
       "      <td>1201274720</td>\n",
       "      <td>2008-01-25</td>\n",
       "      <td>4</td>\n",
       "      <td>0</td>\n",
       "      <td>Council of Europe bashes EU&amp;UN terror blacklist</td>\n",
       "      <td>False</td>\n",
       "      <td>mhermans</td>\n",
       "      <td>worldnews</td>\n",
       "    </tr>\n",
       "    <tr>\n",
       "      <th>5</th>\n",
       "      <td>1201287889</td>\n",
       "      <td>2008-01-25</td>\n",
       "      <td>15</td>\n",
       "      <td>0</td>\n",
       "      <td>Hay presto! Farmer unveils the  illegal  mock-Tudor castle he tried to hide behind 40ft hay bales</td>\n",
       "      <td>False</td>\n",
       "      <td>Armagedonovich</td>\n",
       "      <td>worldnews</td>\n",
       "    </tr>\n",
       "    <tr>\n",
       "      <th>6</th>\n",
       "      <td>1201289438</td>\n",
       "      <td>2008-01-25</td>\n",
       "      <td>5</td>\n",
       "      <td>0</td>\n",
       "      <td>Strikes, Protests and Gridlock at the Poland-Ukraine Border</td>\n",
       "      <td>False</td>\n",
       "      <td>Clythos</td>\n",
       "      <td>worldnews</td>\n",
       "    </tr>\n",
       "    <tr>\n",
       "      <th>7</th>\n",
       "      <td>1201536662</td>\n",
       "      <td>2008-01-28</td>\n",
       "      <td>0</td>\n",
       "      <td>0</td>\n",
       "      <td>The U.N. Mismanagement Program</td>\n",
       "      <td>False</td>\n",
       "      <td>Moldavite</td>\n",
       "      <td>worldnews</td>\n",
       "    </tr>\n",
       "    <tr>\n",
       "      <th>8</th>\n",
       "      <td>1201558396</td>\n",
       "      <td>2008-01-28</td>\n",
       "      <td>4</td>\n",
       "      <td>0</td>\n",
       "      <td>Nicolas Sarkozy threatens to sue Ryanair</td>\n",
       "      <td>False</td>\n",
       "      <td>Moldavite</td>\n",
       "      <td>worldnews</td>\n",
       "    </tr>\n",
       "    <tr>\n",
       "      <th>9</th>\n",
       "      <td>1201635869</td>\n",
       "      <td>2008-01-29</td>\n",
       "      <td>3</td>\n",
       "      <td>0</td>\n",
       "      <td>US plans for missile shields in Polish town met with resistance [video]</td>\n",
       "      <td>False</td>\n",
       "      <td>JoeyRamone63</td>\n",
       "      <td>worldnews</td>\n",
       "    </tr>\n",
       "  </tbody>\n",
       "</table>\n",
       "</div>"
      ],
      "text/plain": [
       "   time_created date_created  up_votes  down_votes  \\\n",
       "0    1201232046   2008-01-25         3           0   \n",
       "1    1201232075   2008-01-25         2           0   \n",
       "2    1201232523   2008-01-25         3           0   \n",
       "3    1201233290   2008-01-25         1           0   \n",
       "4    1201274720   2008-01-25         4           0   \n",
       "5    1201287889   2008-01-25        15           0   \n",
       "6    1201289438   2008-01-25         5           0   \n",
       "7    1201536662   2008-01-28         0           0   \n",
       "8    1201558396   2008-01-28         4           0   \n",
       "9    1201635869   2008-01-29         3           0   \n",
       "\n",
       "                                                                                               title  \\\n",
       "0                                                                  Scores killed in Pakistan clashes   \n",
       "1                                                                   Japan resumes refuelling mission   \n",
       "2                                                                    US presses Egypt on Gaza border   \n",
       "3                                                       Jump-start economy: Give health care to all    \n",
       "4                                                    Council of Europe bashes EU&UN terror blacklist   \n",
       "5  Hay presto! Farmer unveils the  illegal  mock-Tudor castle he tried to hide behind 40ft hay bales   \n",
       "6                                        Strikes, Protests and Gridlock at the Poland-Ukraine Border   \n",
       "7                                                                     The U.N. Mismanagement Program   \n",
       "8                                                          Nicolas Sarkozy threatens to sue Ryanair    \n",
       "9                            US plans for missile shields in Polish town met with resistance [video]   \n",
       "\n",
       "   over_18          author   category  \n",
       "0    False           polar  worldnews  \n",
       "1    False           polar  worldnews  \n",
       "2    False           polar  worldnews  \n",
       "3    False         fadi420  worldnews  \n",
       "4    False        mhermans  worldnews  \n",
       "5    False  Armagedonovich  worldnews  \n",
       "6    False         Clythos  worldnews  \n",
       "7    False       Moldavite  worldnews  \n",
       "8    False       Moldavite  worldnews  \n",
       "9    False    JoeyRamone63  worldnews  "
      ]
     },
     "execution_count": 11,
     "metadata": {},
     "output_type": "execute_result"
    }
   ],
   "source": [
    "df = pd.read_csv('Eluvio_DS_Challenge.csv')\n",
    "df.head(10)"
   ]
  },
  {
   "cell_type": "code",
   "execution_count": 13,
   "metadata": {},
   "outputs": [
    {
     "data": {
      "text/plain": [
       "time_created    508329\n",
       "date_created      3223\n",
       "up_votes          5782\n",
       "down_votes           1\n",
       "title           500720\n",
       "over_18              2\n",
       "author           85838\n",
       "category             1\n",
       "dtype: int64"
      ]
     },
     "execution_count": 13,
     "metadata": {},
     "output_type": "execute_result"
    }
   ],
   "source": [
    "df.nunique()"
   ]
  },
  {
   "cell_type": "markdown",
   "metadata": {},
   "source": [
    "**Observations:** \n",
    "- `time_created`, `down_votes`, and `category` don't have any information in this portion of the dataset, so they can be removed\n",
    "- `date_created` can be split into year, month, and day for more in-depth analysis\n",
    "- there are some repeating `title`'s (~8500)"
   ]
  },
  {
   "cell_type": "markdown",
   "metadata": {},
   "source": [
    "## Clean the Dataset"
   ]
  },
  {
   "cell_type": "code",
   "execution_count": 14,
   "metadata": {},
   "outputs": [
    {
     "data": {
      "text/html": [
       "<div>\n",
       "<style scoped>\n",
       "    .dataframe tbody tr th:only-of-type {\n",
       "        vertical-align: middle;\n",
       "    }\n",
       "\n",
       "    .dataframe tbody tr th {\n",
       "        vertical-align: top;\n",
       "    }\n",
       "\n",
       "    .dataframe thead th {\n",
       "        text-align: right;\n",
       "    }\n",
       "</style>\n",
       "<table border=\"1\" class=\"dataframe\">\n",
       "  <thead>\n",
       "    <tr style=\"text-align: right;\">\n",
       "      <th></th>\n",
       "      <th>date_created</th>\n",
       "      <th>up_votes</th>\n",
       "      <th>title</th>\n",
       "      <th>over_18</th>\n",
       "      <th>author</th>\n",
       "    </tr>\n",
       "  </thead>\n",
       "  <tbody>\n",
       "    <tr>\n",
       "      <th>0</th>\n",
       "      <td>2008-01-25</td>\n",
       "      <td>3</td>\n",
       "      <td>Scores killed in Pakistan clashes</td>\n",
       "      <td>False</td>\n",
       "      <td>polar</td>\n",
       "    </tr>\n",
       "    <tr>\n",
       "      <th>1</th>\n",
       "      <td>2008-01-25</td>\n",
       "      <td>2</td>\n",
       "      <td>Japan resumes refuelling mission</td>\n",
       "      <td>False</td>\n",
       "      <td>polar</td>\n",
       "    </tr>\n",
       "    <tr>\n",
       "      <th>2</th>\n",
       "      <td>2008-01-25</td>\n",
       "      <td>3</td>\n",
       "      <td>US presses Egypt on Gaza border</td>\n",
       "      <td>False</td>\n",
       "      <td>polar</td>\n",
       "    </tr>\n",
       "    <tr>\n",
       "      <th>3</th>\n",
       "      <td>2008-01-25</td>\n",
       "      <td>1</td>\n",
       "      <td>Jump-start economy: Give health care to all</td>\n",
       "      <td>False</td>\n",
       "      <td>fadi420</td>\n",
       "    </tr>\n",
       "    <tr>\n",
       "      <th>4</th>\n",
       "      <td>2008-01-25</td>\n",
       "      <td>4</td>\n",
       "      <td>Council of Europe bashes EU&amp;UN terror blacklist</td>\n",
       "      <td>False</td>\n",
       "      <td>mhermans</td>\n",
       "    </tr>\n",
       "  </tbody>\n",
       "</table>\n",
       "</div>"
      ],
      "text/plain": [
       "  date_created  up_votes                                            title  \\\n",
       "0   2008-01-25         3                Scores killed in Pakistan clashes   \n",
       "1   2008-01-25         2                 Japan resumes refuelling mission   \n",
       "2   2008-01-25         3                  US presses Egypt on Gaza border   \n",
       "3   2008-01-25         1     Jump-start economy: Give health care to all    \n",
       "4   2008-01-25         4  Council of Europe bashes EU&UN terror blacklist   \n",
       "\n",
       "   over_18    author  \n",
       "0    False     polar  \n",
       "1    False     polar  \n",
       "2    False     polar  \n",
       "3    False   fadi420  \n",
       "4    False  mhermans  "
      ]
     },
     "execution_count": 14,
     "metadata": {},
     "output_type": "execute_result"
    }
   ],
   "source": [
    "df = df.drop(columns=['time_created','down_votes','category'])\n",
    "df.head()"
   ]
  },
  {
   "cell_type": "code",
   "execution_count": 12,
   "metadata": {},
   "outputs": [
    {
     "name": "stdout",
     "output_type": "stream",
     "text": [
      "<class 'pandas.core.frame.DataFrame'>\n",
      "RangeIndex: 509236 entries, 0 to 509235\n",
      "Data columns (total 8 columns):\n",
      " #   Column        Non-Null Count   Dtype \n",
      "---  ------        --------------   ----- \n",
      " 0   time_created  509236 non-null  int64 \n",
      " 1   date_created  509236 non-null  object\n",
      " 2   up_votes      509236 non-null  int64 \n",
      " 3   down_votes    509236 non-null  int64 \n",
      " 4   title         509236 non-null  object\n",
      " 5   over_18       509236 non-null  bool  \n",
      " 6   author        509236 non-null  object\n",
      " 7   category      509236 non-null  object\n",
      "dtypes: bool(1), int64(3), object(4)\n",
      "memory usage: 27.7+ MB\n"
     ]
    }
   ],
   "source": [
    "df.info()"
   ]
  },
  {
   "cell_type": "code",
   "execution_count": 15,
   "metadata": {},
   "outputs": [
    {
     "data": {
      "text/html": [
       "<div>\n",
       "<style scoped>\n",
       "    .dataframe tbody tr th:only-of-type {\n",
       "        vertical-align: middle;\n",
       "    }\n",
       "\n",
       "    .dataframe tbody tr th {\n",
       "        vertical-align: top;\n",
       "    }\n",
       "\n",
       "    .dataframe thead th {\n",
       "        text-align: right;\n",
       "    }\n",
       "</style>\n",
       "<table border=\"1\" class=\"dataframe\">\n",
       "  <thead>\n",
       "    <tr style=\"text-align: right;\">\n",
       "      <th></th>\n",
       "      <th>date_created</th>\n",
       "      <th>up_votes</th>\n",
       "      <th>title</th>\n",
       "      <th>over_18</th>\n",
       "      <th>author</th>\n",
       "      <th>year</th>\n",
       "      <th>month</th>\n",
       "      <th>day</th>\n",
       "    </tr>\n",
       "  </thead>\n",
       "  <tbody>\n",
       "    <tr>\n",
       "      <th>0</th>\n",
       "      <td>2008-01-25</td>\n",
       "      <td>3</td>\n",
       "      <td>Scores killed in Pakistan clashes</td>\n",
       "      <td>False</td>\n",
       "      <td>polar</td>\n",
       "      <td>2008</td>\n",
       "      <td>1</td>\n",
       "      <td>25</td>\n",
       "    </tr>\n",
       "    <tr>\n",
       "      <th>1</th>\n",
       "      <td>2008-01-25</td>\n",
       "      <td>2</td>\n",
       "      <td>Japan resumes refuelling mission</td>\n",
       "      <td>False</td>\n",
       "      <td>polar</td>\n",
       "      <td>2008</td>\n",
       "      <td>1</td>\n",
       "      <td>25</td>\n",
       "    </tr>\n",
       "    <tr>\n",
       "      <th>2</th>\n",
       "      <td>2008-01-25</td>\n",
       "      <td>3</td>\n",
       "      <td>US presses Egypt on Gaza border</td>\n",
       "      <td>False</td>\n",
       "      <td>polar</td>\n",
       "      <td>2008</td>\n",
       "      <td>1</td>\n",
       "      <td>25</td>\n",
       "    </tr>\n",
       "    <tr>\n",
       "      <th>3</th>\n",
       "      <td>2008-01-25</td>\n",
       "      <td>1</td>\n",
       "      <td>Jump-start economy: Give health care to all</td>\n",
       "      <td>False</td>\n",
       "      <td>fadi420</td>\n",
       "      <td>2008</td>\n",
       "      <td>1</td>\n",
       "      <td>25</td>\n",
       "    </tr>\n",
       "    <tr>\n",
       "      <th>4</th>\n",
       "      <td>2008-01-25</td>\n",
       "      <td>4</td>\n",
       "      <td>Council of Europe bashes EU&amp;UN terror blacklist</td>\n",
       "      <td>False</td>\n",
       "      <td>mhermans</td>\n",
       "      <td>2008</td>\n",
       "      <td>1</td>\n",
       "      <td>25</td>\n",
       "    </tr>\n",
       "  </tbody>\n",
       "</table>\n",
       "</div>"
      ],
      "text/plain": [
       "  date_created  up_votes                                            title  \\\n",
       "0   2008-01-25         3                Scores killed in Pakistan clashes   \n",
       "1   2008-01-25         2                 Japan resumes refuelling mission   \n",
       "2   2008-01-25         3                  US presses Egypt on Gaza border   \n",
       "3   2008-01-25         1     Jump-start economy: Give health care to all    \n",
       "4   2008-01-25         4  Council of Europe bashes EU&UN terror blacklist   \n",
       "\n",
       "   over_18    author  year  month  day  \n",
       "0    False     polar  2008      1   25  \n",
       "1    False     polar  2008      1   25  \n",
       "2    False     polar  2008      1   25  \n",
       "3    False   fadi420  2008      1   25  \n",
       "4    False  mhermans  2008      1   25  "
      ]
     },
     "execution_count": 15,
     "metadata": {},
     "output_type": "execute_result"
    }
   ],
   "source": [
    "df['date_created']= pd.to_datetime(df['date_created'])\n",
    "df['year'] = df['date_created'].dt.year\n",
    "df['month'] = df['date_created'].dt.month\n",
    "df['day'] = df['date_created'].dt.day\n",
    "df.head()"
   ]
  },
  {
   "cell_type": "markdown",
   "metadata": {},
   "source": [
    "# Data Exploration and Wrangling"
   ]
  },
  {
   "cell_type": "markdown",
   "metadata": {},
   "source": [
    "What I would like to know:\n",
    "- what article(s) has the most up votes\n",
    "- what are the repetitive titles\n",
    "- what authors have the most number of up votes\n",
    "- what authors post the most\n",
    "- do over 18 articles have more up votes in general\n",
    "- what are the trends over years, months, days with topic, up votes (NLP)\n",
    "- what topics are most interesting/up voted (NLP)\n",
    "- what topics do authors write about (NLP)"
   ]
  },
  {
   "cell_type": "markdown",
   "metadata": {},
   "source": [
    "## Most Clicked"
   ]
  },
  {
   "cell_type": "code",
   "execution_count": 17,
   "metadata": {},
   "outputs": [
    {
     "data": {
      "text/plain": [
       "count    509236.000000\n",
       "mean        112.236283\n",
       "std         541.694675\n",
       "min           0.000000\n",
       "25%           1.000000\n",
       "50%           5.000000\n",
       "75%          16.000000\n",
       "max       21253.000000\n",
       "Name: up_votes, dtype: float64"
      ]
     },
     "execution_count": 17,
     "metadata": {},
     "output_type": "execute_result"
    }
   ],
   "source": [
    "df.up_votes.describe()"
   ]
  },
  {
   "cell_type": "code",
   "execution_count": 19,
   "metadata": {},
   "outputs": [
    {
     "data": {
      "text/html": [
       "<div>\n",
       "<style scoped>\n",
       "    .dataframe tbody tr th:only-of-type {\n",
       "        vertical-align: middle;\n",
       "    }\n",
       "\n",
       "    .dataframe tbody tr th {\n",
       "        vertical-align: top;\n",
       "    }\n",
       "\n",
       "    .dataframe thead th {\n",
       "        text-align: right;\n",
       "    }\n",
       "</style>\n",
       "<table border=\"1\" class=\"dataframe\">\n",
       "  <thead>\n",
       "    <tr style=\"text-align: right;\">\n",
       "      <th></th>\n",
       "      <th>date_created</th>\n",
       "      <th>title</th>\n",
       "      <th>author</th>\n",
       "    </tr>\n",
       "  </thead>\n",
       "  <tbody>\n",
       "    <tr>\n",
       "      <th>377200</th>\n",
       "      <td>2015-06-20</td>\n",
       "      <td>A biotech startup has managed to 3-D print fake rhino horns that carry the same genetic fingerprint as the actual horn. The company plans to flood Chinese rhino horn market at one-eighth of the price of the original, undercutting the price poachers can get and forcing them out eventually.</td>\n",
       "      <td>KRISHNA53</td>\n",
       "    </tr>\n",
       "  </tbody>\n",
       "</table>\n",
       "</div>"
      ],
      "text/plain": [
       "       date_created  \\\n",
       "377200   2015-06-20   \n",
       "\n",
       "                                                                                                                                                                                                                                                                                                    title  \\\n",
       "377200  A biotech startup has managed to 3-D print fake rhino horns that carry the same genetic fingerprint as the actual horn. The company plans to flood Chinese rhino horn market at one-eighth of the price of the original, undercutting the price poachers can get and forcing them out eventually.   \n",
       "\n",
       "           author  \n",
       "377200  KRISHNA53  "
      ]
     },
     "execution_count": 19,
     "metadata": {},
     "output_type": "execute_result"
    }
   ],
   "source": [
    "# what got so many upvotes? -- ohh I think I've read this one\n",
    "df[df.up_votes == 21253].loc[:,['date_created','title','author']]"
   ]
  },
  {
   "cell_type": "markdown",
   "metadata": {},
   "source": [
    "## Repeating Titles"
   ]
  },
  {
   "cell_type": "code",
   "execution_count": 20,
   "metadata": {},
   "outputs": [
    {
     "data": {
      "text/html": [
       "<div>\n",
       "<style scoped>\n",
       "    .dataframe tbody tr th:only-of-type {\n",
       "        vertical-align: middle;\n",
       "    }\n",
       "\n",
       "    .dataframe tbody tr th {\n",
       "        vertical-align: top;\n",
       "    }\n",
       "\n",
       "    .dataframe thead th {\n",
       "        text-align: right;\n",
       "    }\n",
       "</style>\n",
       "<table border=\"1\" class=\"dataframe\">\n",
       "  <thead>\n",
       "    <tr style=\"text-align: right;\">\n",
       "      <th></th>\n",
       "      <th>n_posts</th>\n",
       "    </tr>\n",
       "  </thead>\n",
       "  <tbody>\n",
       "    <tr>\n",
       "      <th>Brutality of Syrian Rebels Posing Dilemma in West</th>\n",
       "      <td>6</td>\n",
       "    </tr>\n",
       "    <tr>\n",
       "      <th>The Marshall Islands Are Disappearing</th>\n",
       "      <td>5</td>\n",
       "    </tr>\n",
       "    <tr>\n",
       "      <th>New SARS-like virus is a  threat to the entire world</th>\n",
       "      <td>5</td>\n",
       "    </tr>\n",
       "    <tr>\n",
       "      <th>Ex-Blackwater Guards Sentenced to Prison in 2007 Killings of Iraqi Civilians</th>\n",
       "      <td>5</td>\n",
       "    </tr>\n",
       "    <tr>\n",
       "      <th>Congo declares yellow fever epidemic, 1,000 suspected cases</th>\n",
       "      <td>5</td>\n",
       "    </tr>\n",
       "    <tr>\n",
       "      <th>Samsung Galaxy Note 3 Leaked camera image</th>\n",
       "      <td>5</td>\n",
       "    </tr>\n",
       "    <tr>\n",
       "      <th>Hungarian nationalist TV camera operator filmed kicking refugee children</th>\n",
       "      <td>5</td>\n",
       "    </tr>\n",
       "    <tr>\n",
       "      <th>China disrupts Google services ahead of Tiananmen anniversary</th>\n",
       "      <td>5</td>\n",
       "    </tr>\n",
       "    <tr>\n",
       "      <th>Syria Militants Said to Recruit Visiting Americans to Attack U.S.</th>\n",
       "      <td>5</td>\n",
       "    </tr>\n",
       "    <tr>\n",
       "      <th>Obama Administration Ends Pentagon Program to Train Syrian Rebels</th>\n",
       "      <td>5</td>\n",
       "    </tr>\n",
       "  </tbody>\n",
       "</table>\n",
       "</div>"
      ],
      "text/plain": [
       "                                                                              n_posts\n",
       "Brutality of Syrian Rebels Posing Dilemma in West                                   6\n",
       "The Marshall Islands Are Disappearing                                               5\n",
       "New SARS-like virus is a  threat to the entire world                                5\n",
       "Ex-Blackwater Guards Sentenced to Prison in 2007 Killings of Iraqi Civilians        5\n",
       "Congo declares yellow fever epidemic, 1,000 suspected cases                         5\n",
       "Samsung Galaxy Note 3 Leaked camera image                                           5\n",
       "Hungarian nationalist TV camera operator filmed kicking refugee children            5\n",
       "China disrupts Google services ahead of Tiananmen anniversary                       5\n",
       "Syria Militants Said to Recruit Visiting Americans to Attack U.S.                   5\n",
       "Obama Administration Ends Pentagon Program to Train Syrian Rebels                   5"
      ]
     },
     "execution_count": 20,
     "metadata": {},
     "output_type": "execute_result"
    }
   ],
   "source": [
    "rep_titles = pd.DataFrame(df.title.value_counts()).rename(columns={'title':'n_posts'})\n",
    "rep_titles.head(10)"
   ]
  },
  {
   "cell_type": "code",
   "execution_count": 22,
   "metadata": {},
   "outputs": [
    {
     "data": {
      "text/html": [
       "<div>\n",
       "<style scoped>\n",
       "    .dataframe tbody tr th:only-of-type {\n",
       "        vertical-align: middle;\n",
       "    }\n",
       "\n",
       "    .dataframe tbody tr th {\n",
       "        vertical-align: top;\n",
       "    }\n",
       "\n",
       "    .dataframe thead th {\n",
       "        text-align: right;\n",
       "    }\n",
       "</style>\n",
       "<table border=\"1\" class=\"dataframe\">\n",
       "  <thead>\n",
       "    <tr style=\"text-align: right;\">\n",
       "      <th></th>\n",
       "      <th>date_created</th>\n",
       "      <th>author</th>\n",
       "      <th>up_votes</th>\n",
       "      <th>over_18</th>\n",
       "    </tr>\n",
       "  </thead>\n",
       "  <tbody>\n",
       "    <tr>\n",
       "      <th>210806</th>\n",
       "      <td>2013-09-06</td>\n",
       "      <td>BillTowne</td>\n",
       "      <td>57</td>\n",
       "      <td>False</td>\n",
       "    </tr>\n",
       "    <tr>\n",
       "      <th>210805</th>\n",
       "      <td>2013-09-06</td>\n",
       "      <td>GreyMatter22</td>\n",
       "      <td>31</td>\n",
       "      <td>False</td>\n",
       "    </tr>\n",
       "    <tr>\n",
       "      <th>210632</th>\n",
       "      <td>2013-09-05</td>\n",
       "      <td>0x0E</td>\n",
       "      <td>28</td>\n",
       "      <td>False</td>\n",
       "    </tr>\n",
       "    <tr>\n",
       "      <th>210607</th>\n",
       "      <td>2013-09-05</td>\n",
       "      <td>Jewpiter</td>\n",
       "      <td>19</td>\n",
       "      <td>False</td>\n",
       "    </tr>\n",
       "    <tr>\n",
       "      <th>210720</th>\n",
       "      <td>2013-09-05</td>\n",
       "      <td>erowidtrance</td>\n",
       "      <td>12</td>\n",
       "      <td>False</td>\n",
       "    </tr>\n",
       "    <tr>\n",
       "      <th>210685</th>\n",
       "      <td>2013-09-05</td>\n",
       "      <td>emr1028</td>\n",
       "      <td>7</td>\n",
       "      <td>False</td>\n",
       "    </tr>\n",
       "  </tbody>\n",
       "</table>\n",
       "</div>"
      ],
      "text/plain": [
       "       date_created        author  up_votes  over_18\n",
       "210806   2013-09-06     BillTowne        57    False\n",
       "210805   2013-09-06  GreyMatter22        31    False\n",
       "210632   2013-09-05          0x0E        28    False\n",
       "210607   2013-09-05      Jewpiter        19    False\n",
       "210720   2013-09-05  erowidtrance        12    False\n",
       "210685   2013-09-05       emr1028         7    False"
      ]
     },
     "execution_count": 22,
     "metadata": {},
     "output_type": "execute_result"
    }
   ],
   "source": [
    "df[df['title'] == rep_titles.first_valid_index()]\\\n",
    "    .loc[:,['date_created','author','up_votes','over_18']]\\\n",
    "    .sort_values(by='up_votes', ascending=False)"
   ]
  },
  {
   "cell_type": "markdown",
   "metadata": {},
   "source": [
    "## Top Authors"
   ]
  },
  {
   "cell_type": "code",
   "execution_count": 23,
   "metadata": {},
   "outputs": [
    {
     "data": {
      "text/plain": [
       "<matplotlib.axes._subplots.AxesSubplot at 0x7ff6d0ad7760>"
      ]
     },
     "execution_count": 23,
     "metadata": {},
     "output_type": "execute_result"
    },
    {
     "data": {
      "image/png": "[encoded data removed]",
      "text/plain": [
       "<Figure size 432x288 with 1 Axes>"
      ]
     },
     "metadata": {
      "needs_background": "light"
     },
     "output_type": "display_data"
    }
   ],
   "source": [
    "top_authors = pd.DataFrame(df.groupby('author')['up_votes'].sum())\\\n",
    "    .sort_values(by='up_votes', ascending=False)\n",
    "\n",
    "top_authors.head(10).plot.barh()"
   ]
  },
  {
   "cell_type": "markdown",
   "metadata": {},
   "source": [
    "## Busiest Authors"
   ]
  },
  {
   "cell_type": "code",
   "execution_count": 24,
   "metadata": {},
   "outputs": [
    {
     "data": {
      "text/plain": [
       "count    85838.000000\n",
       "mean         5.932524\n",
       "std         62.282937\n",
       "min          1.000000\n",
       "25%          1.000000\n",
       "50%          1.000000\n",
       "75%          2.000000\n",
       "max       8897.000000\n",
       "Name: author, dtype: float64"
      ]
     },
     "execution_count": 24,
     "metadata": {},
     "output_type": "execute_result"
    }
   ],
   "source": [
    "df.author.value_counts().describe()"
   ]
  },
  {
   "cell_type": "code",
   "execution_count": 25,
   "metadata": {},
   "outputs": [
    {
     "data": {
      "text/plain": [
       "<matplotlib.axes._subplots.AxesSubplot at 0x7ff6d023dbb0>"
      ]
     },
     "execution_count": 25,
     "metadata": {},
     "output_type": "execute_result"
    },
    {
     "data": {
      "image/png": "[encoded data removed]",
      "text/plain": [
       "<Figure size 432x288 with 1 Axes>"
      ]
     },
     "metadata": {
      "needs_background": "light"
     },
     "output_type": "display_data"
    }
   ],
   "source": [
    "n_posts = pd.DataFrame(df.author.value_counts())\n",
    "\n",
    "n_posts.head(10).plot.barh()"
   ]
  },
  {
   "cell_type": "markdown",
   "metadata": {},
   "source": [
    "## NSFW vs SFW"
   ]
  },
  {
   "cell_type": "code",
   "execution_count": 26,
   "metadata": {},
   "outputs": [
    {
     "data": {
      "text/plain": [
       "False    508916\n",
       "True        320\n",
       "Name: over_18, dtype: int64"
      ]
     },
     "execution_count": 26,
     "metadata": {},
     "output_type": "execute_result"
    }
   ],
   "source": [
    "df.over_18.value_counts()"
   ]
  },
  {
   "cell_type": "code",
   "execution_count": 27,
   "metadata": {},
   "outputs": [
    {
     "name": "stdout",
     "output_type": "stream",
     "text": [
      "mean up votes: 380.375\n",
      "standard dev: 1062.401\n"
     ]
    }
   ],
   "source": [
    "df_nsfw = df[df['over_18'] == True].loc[:,'up_votes']\n",
    "print(f'mean up votes: {df_nsfw.mean():5.3f}')\n",
    "print(f'standard dev: {df_nsfw.std():5.3f}')"
   ]
  },
  {
   "cell_type": "code",
   "execution_count": 28,
   "metadata": {},
   "outputs": [
    {
     "name": "stdout",
     "output_type": "stream",
     "text": [
      "mean up votes: 112.068\n",
      "standard dev:  541.170\n"
     ]
    }
   ],
   "source": [
    "df_sfw = df[df['over_18'] == False].loc[:,'up_votes']\n",
    "print(f'mean up votes: {df_sfw.mean():5.3f}')\n",
    "print(f'standard dev:  {df_sfw.std():5.3f}')"
   ]
  },
  {
   "cell_type": "code",
   "execution_count": 29,
   "metadata": {},
   "outputs": [
    {
     "data": {
      "text/html": [
       "<div>\n",
       "<style scoped>\n",
       "    .dataframe tbody tr th:only-of-type {\n",
       "        vertical-align: middle;\n",
       "    }\n",
       "\n",
       "    .dataframe tbody tr th {\n",
       "        vertical-align: top;\n",
       "    }\n",
       "\n",
       "    .dataframe thead th {\n",
       "        text-align: right;\n",
       "    }\n",
       "</style>\n",
       "<table border=\"1\" class=\"dataframe\">\n",
       "  <thead>\n",
       "    <tr style=\"text-align: right;\">\n",
       "      <th></th>\n",
       "      <th>date_created</th>\n",
       "      <th>up_votes</th>\n",
       "      <th>title</th>\n",
       "      <th>author</th>\n",
       "    </tr>\n",
       "  </thead>\n",
       "  <tbody>\n",
       "    <tr>\n",
       "      <th>500590</th>\n",
       "      <td>2016-10-18</td>\n",
       "      <td>7941</td>\n",
       "      <td>Judge presiding over  El Chapo s  case shot, killed while jogging outside home</td>\n",
       "      <td>IsleCook</td>\n",
       "    </tr>\n",
       "    <tr>\n",
       "      <th>494536</th>\n",
       "      <td>2016-09-25</td>\n",
       "      <td>6322</td>\n",
       "      <td>[NSFL] Australian child molester Peter Scully faces death penalty in Philippines - Scully  filmed his torture and rape of young girls as he made them dig their own graves  and  laughed, joked and acted nonchalant about his alleged crimes</td>\n",
       "      <td>ExWhySaid</td>\n",
       "    </tr>\n",
       "    <tr>\n",
       "      <th>428689</th>\n",
       "      <td>2016-01-07</td>\n",
       "      <td>5878</td>\n",
       "      <td>Armed suspect shot dead after trying to storm Paris police station</td>\n",
       "      <td>rawmas02</td>\n",
       "    </tr>\n",
       "    <tr>\n",
       "      <th>462067</th>\n",
       "      <td>2016-05-17</td>\n",
       "      <td>5617</td>\n",
       "      <td>Syria Army killed over 200 ISIS militants in 3-day long offensive in Deir Ezzor</td>\n",
       "      <td>orangeflower2015</td>\n",
       "    </tr>\n",
       "    <tr>\n",
       "      <th>303900</th>\n",
       "      <td>2014-09-05</td>\n",
       "      <td>5507</td>\n",
       "      <td>Man escapes ISIS execution</td>\n",
       "      <td>brothamo</td>\n",
       "    </tr>\n",
       "    <tr>\n",
       "      <th>...</th>\n",
       "      <td>...</td>\n",
       "      <td>...</td>\n",
       "      <td>...</td>\n",
       "      <td>...</td>\n",
       "    </tr>\n",
       "    <tr>\n",
       "      <th>310427</th>\n",
       "      <td>2014-09-28</td>\n",
       "      <td>0</td>\n",
       "      <td>Video: GRAPHIC: Mexican Terrorist Cartel Beheads 4 Women In Message To America | Prepper Chimp</td>\n",
       "      <td>schill_ya_later</td>\n",
       "    </tr>\n",
       "    <tr>\n",
       "      <th>301046</th>\n",
       "      <td>2014-08-27</td>\n",
       "      <td>0</td>\n",
       "      <td>Egyptian Feminists Literally Shit and Bleed on ISIS Flag (NSFW)</td>\n",
       "      <td>CratusRedditus</td>\n",
       "    </tr>\n",
       "    <tr>\n",
       "      <th>168527</th>\n",
       "      <td>2013-03-26</td>\n",
       "      <td>0</td>\n",
       "      <td>Fine Gael split over threesome advice</td>\n",
       "      <td>Aron_Sam</td>\n",
       "    </tr>\n",
       "    <tr>\n",
       "      <th>289329</th>\n",
       "      <td>2014-07-17</td>\n",
       "      <td>0</td>\n",
       "      <td>Japanese woman faces two years in prison for trying to 3D scan her vagina for a special kind of kyak design. mildly nsfw.</td>\n",
       "      <td>space_jumper</td>\n",
       "    </tr>\n",
       "    <tr>\n",
       "      <th>508706</th>\n",
       "      <td>2016-11-20</td>\n",
       "      <td>0</td>\n",
       "      <td>[NSFW] Teenage boy run over by  Iraqi army tank after being beaten up by soldiers</td>\n",
       "      <td>atyzer</td>\n",
       "    </tr>\n",
       "  </tbody>\n",
       "</table>\n",
       "<p>320 rows × 4 columns</p>\n",
       "</div>"
      ],
      "text/plain": [
       "       date_created  up_votes  \\\n",
       "500590   2016-10-18      7941   \n",
       "494536   2016-09-25      6322   \n",
       "428689   2016-01-07      5878   \n",
       "462067   2016-05-17      5617   \n",
       "303900   2014-09-05      5507   \n",
       "...             ...       ...   \n",
       "310427   2014-09-28         0   \n",
       "301046   2014-08-27         0   \n",
       "168527   2013-03-26         0   \n",
       "289329   2014-07-17         0   \n",
       "508706   2016-11-20         0   \n",
       "\n",
       "                                                                                                                                                                                                                                                 title  \\\n",
       "500590                                                                                                                                                                  Judge presiding over  El Chapo s  case shot, killed while jogging outside home   \n",
       "494536  [NSFL] Australian child molester Peter Scully faces death penalty in Philippines - Scully  filmed his torture and rape of young girls as he made them dig their own graves  and  laughed, joked and acted nonchalant about his alleged crimes    \n",
       "428689                                                                                                                                                                              Armed suspect shot dead after trying to storm Paris police station   \n",
       "462067                                                                                                                                                                 Syria Army killed over 200 ISIS militants in 3-day long offensive in Deir Ezzor   \n",
       "303900                                                                                                                                                                                                                      Man escapes ISIS execution   \n",
       "...                                                                                                                                                                                                                                                ...   \n",
       "310427                                                                                                                                                  Video: GRAPHIC: Mexican Terrorist Cartel Beheads 4 Women In Message To America | Prepper Chimp   \n",
       "301046                                                                                                                                                                                 Egyptian Feminists Literally Shit and Bleed on ISIS Flag (NSFW)   \n",
       "168527                                                                                                                                                                                                           Fine Gael split over threesome advice   \n",
       "289329                                                                                                                       Japanese woman faces two years in prison for trying to 3D scan her vagina for a special kind of kyak design. mildly nsfw.   \n",
       "508706                                                                                                                                                              [NSFW] Teenage boy run over by  Iraqi army tank after being beaten up by soldiers    \n",
       "\n",
       "                  author  \n",
       "500590          IsleCook  \n",
       "494536         ExWhySaid  \n",
       "428689          rawmas02  \n",
       "462067  orangeflower2015  \n",
       "303900          brothamo  \n",
       "...                  ...  \n",
       "310427   schill_ya_later  \n",
       "301046    CratusRedditus  \n",
       "168527          Aron_Sam  \n",
       "289329      space_jumper  \n",
       "508706            atyzer  \n",
       "\n",
       "[320 rows x 4 columns]"
      ]
     },
     "execution_count": 29,
     "metadata": {},
     "output_type": "execute_result"
    }
   ],
   "source": [
    "df[df.over_18 == True]\\\n",
    "    .loc[:,['date_created','up_votes','title','author']]\\\n",
    "    .sort_values(by='up_votes', ascending=False)"
   ]
  }
 ],
 "metadata": {
  "kernelspec": {
   "display_name": "Python 3",
   "language": "python",
   "name": "python3"
  },
  "language_info": {
   "codemirror_mode": {
    "name": "ipython",
    "version": 3
   },
   "file_extension": ".py",
   "mimetype": "text/x-python",
   "name": "python",
   "nbconvert_exporter": "python",
   "pygments_lexer": "ipython3",
   "version": "3.8.3"
  }
 },
 "nbformat": 4,
 "nbformat_minor": 4
}
