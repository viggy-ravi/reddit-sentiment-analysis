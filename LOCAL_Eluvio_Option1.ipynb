{
 "cells": [
  {
   "cell_type": "code",
   "execution_count": 1,
   "metadata": {},
   "outputs": [],
   "source": [
    "%load_ext autoreload\n",
    "%autoreload\n",
    "\n",
    "import pandas as pd\n",
    "import numpy as np\n",
    "import seaborn as sns\n",
    "import matplotlib.pyplot as plt\n",
    "%matplotlib inline\n",
    "\n",
    "pd.set_option('display.max_colwidth', None)\n",
    "sns.set_palette(\"icefire\")"
   ]
  },
  {
   "cell_type": "markdown",
   "metadata": {},
   "source": [
    "# Import Dataset"
   ]
  },
  {
   "cell_type": "code",
   "execution_count": 2,
   "metadata": {},
   "outputs": [
    {
     "data": {
      "text/html": [
       "<div>\n",
       "<style scoped>\n",
       "    .dataframe tbody tr th:only-of-type {\n",
       "        vertical-align: middle;\n",
       "    }\n",
       "\n",
       "    .dataframe tbody tr th {\n",
       "        vertical-align: top;\n",
       "    }\n",
       "\n",
       "    .dataframe thead th {\n",
       "        text-align: right;\n",
       "    }\n",
       "</style>\n",
       "<table border=\"1\" class=\"dataframe\">\n",
       "  <thead>\n",
       "    <tr style=\"text-align: right;\">\n",
       "      <th></th>\n",
       "      <th>time_created</th>\n",
       "      <th>up_votes</th>\n",
       "      <th>down_votes</th>\n",
       "      <th>title</th>\n",
       "      <th>over_18</th>\n",
       "      <th>author</th>\n",
       "      <th>category</th>\n",
       "    </tr>\n",
       "    <tr>\n",
       "      <th>date_created</th>\n",
       "      <th></th>\n",
       "      <th></th>\n",
       "      <th></th>\n",
       "      <th></th>\n",
       "      <th></th>\n",
       "      <th></th>\n",
       "      <th></th>\n",
       "    </tr>\n",
       "  </thead>\n",
       "  <tbody>\n",
       "    <tr>\n",
       "      <th>2008-01-25</th>\n",
       "      <td>1201232046</td>\n",
       "      <td>3</td>\n",
       "      <td>0</td>\n",
       "      <td>Scores killed in Pakistan clashes</td>\n",
       "      <td>False</td>\n",
       "      <td>polar</td>\n",
       "      <td>worldnews</td>\n",
       "    </tr>\n",
       "    <tr>\n",
       "      <th>2008-01-25</th>\n",
       "      <td>1201232075</td>\n",
       "      <td>2</td>\n",
       "      <td>0</td>\n",
       "      <td>Japan resumes refuelling mission</td>\n",
       "      <td>False</td>\n",
       "      <td>polar</td>\n",
       "      <td>worldnews</td>\n",
       "    </tr>\n",
       "    <tr>\n",
       "      <th>2008-01-25</th>\n",
       "      <td>1201232523</td>\n",
       "      <td>3</td>\n",
       "      <td>0</td>\n",
       "      <td>US presses Egypt on Gaza border</td>\n",
       "      <td>False</td>\n",
       "      <td>polar</td>\n",
       "      <td>worldnews</td>\n",
       "    </tr>\n",
       "    <tr>\n",
       "      <th>2008-01-25</th>\n",
       "      <td>1201233290</td>\n",
       "      <td>1</td>\n",
       "      <td>0</td>\n",
       "      <td>Jump-start economy: Give health care to all</td>\n",
       "      <td>False</td>\n",
       "      <td>fadi420</td>\n",
       "      <td>worldnews</td>\n",
       "    </tr>\n",
       "    <tr>\n",
       "      <th>2008-01-25</th>\n",
       "      <td>1201274720</td>\n",
       "      <td>4</td>\n",
       "      <td>0</td>\n",
       "      <td>Council of Europe bashes EU&amp;UN terror blacklist</td>\n",
       "      <td>False</td>\n",
       "      <td>mhermans</td>\n",
       "      <td>worldnews</td>\n",
       "    </tr>\n",
       "    <tr>\n",
       "      <th>2008-01-25</th>\n",
       "      <td>1201287889</td>\n",
       "      <td>15</td>\n",
       "      <td>0</td>\n",
       "      <td>Hay presto! Farmer unveils the  illegal  mock-Tudor castle he tried to hide behind 40ft hay bales</td>\n",
       "      <td>False</td>\n",
       "      <td>Armagedonovich</td>\n",
       "      <td>worldnews</td>\n",
       "    </tr>\n",
       "    <tr>\n",
       "      <th>2008-01-25</th>\n",
       "      <td>1201289438</td>\n",
       "      <td>5</td>\n",
       "      <td>0</td>\n",
       "      <td>Strikes, Protests and Gridlock at the Poland-Ukraine Border</td>\n",
       "      <td>False</td>\n",
       "      <td>Clythos</td>\n",
       "      <td>worldnews</td>\n",
       "    </tr>\n",
       "    <tr>\n",
       "      <th>2008-01-28</th>\n",
       "      <td>1201536662</td>\n",
       "      <td>0</td>\n",
       "      <td>0</td>\n",
       "      <td>The U.N. Mismanagement Program</td>\n",
       "      <td>False</td>\n",
       "      <td>Moldavite</td>\n",
       "      <td>worldnews</td>\n",
       "    </tr>\n",
       "    <tr>\n",
       "      <th>2008-01-28</th>\n",
       "      <td>1201558396</td>\n",
       "      <td>4</td>\n",
       "      <td>0</td>\n",
       "      <td>Nicolas Sarkozy threatens to sue Ryanair</td>\n",
       "      <td>False</td>\n",
       "      <td>Moldavite</td>\n",
       "      <td>worldnews</td>\n",
       "    </tr>\n",
       "    <tr>\n",
       "      <th>2008-01-29</th>\n",
       "      <td>1201635869</td>\n",
       "      <td>3</td>\n",
       "      <td>0</td>\n",
       "      <td>US plans for missile shields in Polish town met with resistance [video]</td>\n",
       "      <td>False</td>\n",
       "      <td>JoeyRamone63</td>\n",
       "      <td>worldnews</td>\n",
       "    </tr>\n",
       "  </tbody>\n",
       "</table>\n",
       "</div>"
      ],
      "text/plain": [
       "              time_created  up_votes  down_votes  \\\n",
       "date_created                                       \n",
       "2008-01-25      1201232046         3           0   \n",
       "2008-01-25      1201232075         2           0   \n",
       "2008-01-25      1201232523         3           0   \n",
       "2008-01-25      1201233290         1           0   \n",
       "2008-01-25      1201274720         4           0   \n",
       "2008-01-25      1201287889        15           0   \n",
       "2008-01-25      1201289438         5           0   \n",
       "2008-01-28      1201536662         0           0   \n",
       "2008-01-28      1201558396         4           0   \n",
       "2008-01-29      1201635869         3           0   \n",
       "\n",
       "                                                                                                          title  \\\n",
       "date_created                                                                                                      \n",
       "2008-01-25                                                                    Scores killed in Pakistan clashes   \n",
       "2008-01-25                                                                     Japan resumes refuelling mission   \n",
       "2008-01-25                                                                      US presses Egypt on Gaza border   \n",
       "2008-01-25                                                         Jump-start economy: Give health care to all    \n",
       "2008-01-25                                                      Council of Europe bashes EU&UN terror blacklist   \n",
       "2008-01-25    Hay presto! Farmer unveils the  illegal  mock-Tudor castle he tried to hide behind 40ft hay bales   \n",
       "2008-01-25                                          Strikes, Protests and Gridlock at the Poland-Ukraine Border   \n",
       "2008-01-28                                                                       The U.N. Mismanagement Program   \n",
       "2008-01-28                                                            Nicolas Sarkozy threatens to sue Ryanair    \n",
       "2008-01-29                              US plans for missile shields in Polish town met with resistance [video]   \n",
       "\n",
       "              over_18          author   category  \n",
       "date_created                                      \n",
       "2008-01-25      False           polar  worldnews  \n",
       "2008-01-25      False           polar  worldnews  \n",
       "2008-01-25      False           polar  worldnews  \n",
       "2008-01-25      False         fadi420  worldnews  \n",
       "2008-01-25      False        mhermans  worldnews  \n",
       "2008-01-25      False  Armagedonovich  worldnews  \n",
       "2008-01-25      False         Clythos  worldnews  \n",
       "2008-01-28      False       Moldavite  worldnews  \n",
       "2008-01-28      False       Moldavite  worldnews  \n",
       "2008-01-29      False    JoeyRamone63  worldnews  "
      ]
     },
     "execution_count": 2,
     "metadata": {},
     "output_type": "execute_result"
    }
   ],
   "source": [
    "df = pd.read_csv('Eluvio_DS_Challenge.csv', parse_dates=True, index_col='date_created')\n",
    "df.head(10)"
   ]
  },
  {
   "cell_type": "markdown",
   "metadata": {},
   "source": [
    "## Stats"
   ]
  },
  {
   "cell_type": "code",
   "execution_count": 163,
   "metadata": {},
   "outputs": [
    {
     "data": {
      "text/plain": [
       "(509236, 8)"
      ]
     },
     "execution_count": 163,
     "metadata": {},
     "output_type": "execute_result"
    }
   ],
   "source": [
    "df.shape"
   ]
  },
  {
   "cell_type": "code",
   "execution_count": 188,
   "metadata": {},
   "outputs": [
    {
     "name": "stdout",
     "output_type": "stream",
     "text": [
      "<class 'pandas.core.frame.DataFrame'>\n",
      "DatetimeIndex: 509236 entries, 2008-01-25 to 2016-11-22\n",
      "Data columns (total 7 columns):\n",
      " #   Column        Non-Null Count   Dtype \n",
      "---  ------        --------------   ----- \n",
      " 0   time_created  509236 non-null  int64 \n",
      " 1   up_votes      509236 non-null  int64 \n",
      " 2   down_votes    509236 non-null  int64 \n",
      " 3   title         509236 non-null  object\n",
      " 4   over_18       509236 non-null  bool  \n",
      " 5   author        509236 non-null  object\n",
      " 6   category      509236 non-null  object\n",
      "dtypes: bool(1), int64(3), object(3)\n",
      "memory usage: 27.7+ MB\n"
     ]
    }
   ],
   "source": [
    "df.info()"
   ]
  },
  {
   "cell_type": "code",
   "execution_count": 5,
   "metadata": {},
   "outputs": [
    {
     "data": {
      "text/html": [
       "<div>\n",
       "<style scoped>\n",
       "    .dataframe tbody tr th:only-of-type {\n",
       "        vertical-align: middle;\n",
       "    }\n",
       "\n",
       "    .dataframe tbody tr th {\n",
       "        vertical-align: top;\n",
       "    }\n",
       "\n",
       "    .dataframe thead th {\n",
       "        text-align: right;\n",
       "    }\n",
       "</style>\n",
       "<table border=\"1\" class=\"dataframe\">\n",
       "  <thead>\n",
       "    <tr style=\"text-align: right;\">\n",
       "      <th></th>\n",
       "      <th>time_created</th>\n",
       "      <th>up_votes</th>\n",
       "      <th>down_votes</th>\n",
       "    </tr>\n",
       "  </thead>\n",
       "  <tbody>\n",
       "    <tr>\n",
       "      <th>count</th>\n",
       "      <td>5.092360e+05</td>\n",
       "      <td>509236.000000</td>\n",
       "      <td>509236.0</td>\n",
       "    </tr>\n",
       "    <tr>\n",
       "      <th>mean</th>\n",
       "      <td>1.380240e+09</td>\n",
       "      <td>112.236283</td>\n",
       "      <td>0.0</td>\n",
       "    </tr>\n",
       "    <tr>\n",
       "      <th>std</th>\n",
       "      <td>7.090436e+07</td>\n",
       "      <td>541.694675</td>\n",
       "      <td>0.0</td>\n",
       "    </tr>\n",
       "    <tr>\n",
       "      <th>min</th>\n",
       "      <td>1.201232e+09</td>\n",
       "      <td>0.000000</td>\n",
       "      <td>0.0</td>\n",
       "    </tr>\n",
       "    <tr>\n",
       "      <th>25%</th>\n",
       "      <td>1.341585e+09</td>\n",
       "      <td>1.000000</td>\n",
       "      <td>0.0</td>\n",
       "    </tr>\n",
       "    <tr>\n",
       "      <th>50%</th>\n",
       "      <td>1.392909e+09</td>\n",
       "      <td>5.000000</td>\n",
       "      <td>0.0</td>\n",
       "    </tr>\n",
       "    <tr>\n",
       "      <th>75%</th>\n",
       "      <td>1.436527e+09</td>\n",
       "      <td>16.000000</td>\n",
       "      <td>0.0</td>\n",
       "    </tr>\n",
       "    <tr>\n",
       "      <th>max</th>\n",
       "      <td>1.479817e+09</td>\n",
       "      <td>21253.000000</td>\n",
       "      <td>0.0</td>\n",
       "    </tr>\n",
       "  </tbody>\n",
       "</table>\n",
       "</div>"
      ],
      "text/plain": [
       "       time_created       up_votes  down_votes\n",
       "count  5.092360e+05  509236.000000    509236.0\n",
       "mean   1.380240e+09     112.236283         0.0\n",
       "std    7.090436e+07     541.694675         0.0\n",
       "min    1.201232e+09       0.000000         0.0\n",
       "25%    1.341585e+09       1.000000         0.0\n",
       "50%    1.392909e+09       5.000000         0.0\n",
       "75%    1.436527e+09      16.000000         0.0\n",
       "max    1.479817e+09   21253.000000         0.0"
      ]
     },
     "execution_count": 5,
     "metadata": {},
     "output_type": "execute_result"
    }
   ],
   "source": [
    "df.describe()"
   ]
  },
  {
   "cell_type": "code",
   "execution_count": 6,
   "metadata": {},
   "outputs": [
    {
     "data": {
      "text/plain": [
       "time_created    508329\n",
       "up_votes          5782\n",
       "down_votes           1\n",
       "title           500720\n",
       "over_18              2\n",
       "author           85838\n",
       "category             1\n",
       "dtype: int64"
      ]
     },
     "execution_count": 6,
     "metadata": {},
     "output_type": "execute_result"
    }
   ],
   "source": [
    "df.nunique()"
   ]
  },
  {
   "cell_type": "code",
   "execution_count": 7,
   "metadata": {},
   "outputs": [
    {
     "data": {
      "text/plain": [
       "DatetimeIndex(['2008-01-25', '2008-01-25', '2008-01-25', '2008-01-25',\n",
       "               '2008-01-25', '2008-01-25', '2008-01-25', '2008-01-28',\n",
       "               '2008-01-28', '2008-01-29',\n",
       "               ...\n",
       "               '2016-11-22', '2016-11-22', '2016-11-22', '2016-11-22',\n",
       "               '2016-11-22', '2016-11-22', '2016-11-22', '2016-11-22',\n",
       "               '2016-11-22', '2016-11-22'],\n",
       "              dtype='datetime64[ns]', name='date_created', length=509236, freq=None)"
      ]
     },
     "execution_count": 7,
     "metadata": {},
     "output_type": "execute_result"
    }
   ],
   "source": [
    "df.index"
   ]
  },
  {
   "cell_type": "markdown",
   "metadata": {},
   "source": [
    "## Clean Dataset"
   ]
  },
  {
   "cell_type": "code",
   "execution_count": 3,
   "metadata": {},
   "outputs": [
    {
     "data": {
      "text/html": [
       "<div>\n",
       "<style scoped>\n",
       "    .dataframe tbody tr th:only-of-type {\n",
       "        vertical-align: middle;\n",
       "    }\n",
       "\n",
       "    .dataframe tbody tr th {\n",
       "        vertical-align: top;\n",
       "    }\n",
       "\n",
       "    .dataframe thead th {\n",
       "        text-align: right;\n",
       "    }\n",
       "</style>\n",
       "<table border=\"1\" class=\"dataframe\">\n",
       "  <thead>\n",
       "    <tr style=\"text-align: right;\">\n",
       "      <th></th>\n",
       "      <th>up_votes</th>\n",
       "      <th>title</th>\n",
       "      <th>over_18</th>\n",
       "      <th>author</th>\n",
       "    </tr>\n",
       "    <tr>\n",
       "      <th>date_created</th>\n",
       "      <th></th>\n",
       "      <th></th>\n",
       "      <th></th>\n",
       "      <th></th>\n",
       "    </tr>\n",
       "  </thead>\n",
       "  <tbody>\n",
       "    <tr>\n",
       "      <th>2008-01-25</th>\n",
       "      <td>3</td>\n",
       "      <td>Scores killed in Pakistan clashes</td>\n",
       "      <td>False</td>\n",
       "      <td>polar</td>\n",
       "    </tr>\n",
       "    <tr>\n",
       "      <th>2008-01-25</th>\n",
       "      <td>2</td>\n",
       "      <td>Japan resumes refuelling mission</td>\n",
       "      <td>False</td>\n",
       "      <td>polar</td>\n",
       "    </tr>\n",
       "    <tr>\n",
       "      <th>2008-01-25</th>\n",
       "      <td>3</td>\n",
       "      <td>US presses Egypt on Gaza border</td>\n",
       "      <td>False</td>\n",
       "      <td>polar</td>\n",
       "    </tr>\n",
       "    <tr>\n",
       "      <th>2008-01-25</th>\n",
       "      <td>1</td>\n",
       "      <td>Jump-start economy: Give health care to all</td>\n",
       "      <td>False</td>\n",
       "      <td>fadi420</td>\n",
       "    </tr>\n",
       "    <tr>\n",
       "      <th>2008-01-25</th>\n",
       "      <td>4</td>\n",
       "      <td>Council of Europe bashes EU&amp;UN terror blacklist</td>\n",
       "      <td>False</td>\n",
       "      <td>mhermans</td>\n",
       "    </tr>\n",
       "  </tbody>\n",
       "</table>\n",
       "</div>"
      ],
      "text/plain": [
       "              up_votes                                            title  \\\n",
       "date_created                                                              \n",
       "2008-01-25           3                Scores killed in Pakistan clashes   \n",
       "2008-01-25           2                 Japan resumes refuelling mission   \n",
       "2008-01-25           3                  US presses Egypt on Gaza border   \n",
       "2008-01-25           1     Jump-start economy: Give health care to all    \n",
       "2008-01-25           4  Council of Europe bashes EU&UN terror blacklist   \n",
       "\n",
       "              over_18    author  \n",
       "date_created                     \n",
       "2008-01-25      False     polar  \n",
       "2008-01-25      False     polar  \n",
       "2008-01-25      False     polar  \n",
       "2008-01-25      False   fadi420  \n",
       "2008-01-25      False  mhermans  "
      ]
     },
     "execution_count": 3,
     "metadata": {},
     "output_type": "execute_result"
    }
   ],
   "source": [
    "# remove unnecessary columns\n",
    "worldnews = df.drop(columns=['time_created','down_votes','category'])\n",
    "worldnews.head()"
   ]
  },
  {
   "cell_type": "markdown",
   "metadata": {},
   "source": [
    "# EDA"
   ]
  },
  {
   "cell_type": "markdown",
   "metadata": {},
   "source": [
    "## Repeating Titles"
   ]
  },
  {
   "cell_type": "code",
   "execution_count": 13,
   "metadata": {},
   "outputs": [
    {
     "data": {
      "text/html": [
       "<div>\n",
       "<style scoped>\n",
       "    .dataframe tbody tr th:only-of-type {\n",
       "        vertical-align: middle;\n",
       "    }\n",
       "\n",
       "    .dataframe tbody tr th {\n",
       "        vertical-align: top;\n",
       "    }\n",
       "\n",
       "    .dataframe thead th {\n",
       "        text-align: right;\n",
       "    }\n",
       "</style>\n",
       "<table border=\"1\" class=\"dataframe\">\n",
       "  <thead>\n",
       "    <tr style=\"text-align: right;\">\n",
       "      <th></th>\n",
       "      <th>n_posts</th>\n",
       "    </tr>\n",
       "  </thead>\n",
       "  <tbody>\n",
       "    <tr>\n",
       "      <th>Brutality of Syrian Rebels Posing Dilemma in West</th>\n",
       "      <td>6</td>\n",
       "    </tr>\n",
       "    <tr>\n",
       "      <th>David Cameron to quit after UK votes to leave EU</th>\n",
       "      <td>5</td>\n",
       "    </tr>\n",
       "    <tr>\n",
       "      <th>Putin nominated for Nobel Peace Prize</th>\n",
       "      <td>5</td>\n",
       "    </tr>\n",
       "    <tr>\n",
       "      <th>South Korea reveals it has a plan to assassinate Kim Jong Un</th>\n",
       "      <td>5</td>\n",
       "    </tr>\n",
       "    <tr>\n",
       "      <th>Samsung Galaxy Note 3 Leaked camera image</th>\n",
       "      <td>5</td>\n",
       "    </tr>\n",
       "    <tr>\n",
       "      <th>Obama Administration Ends Pentagon Program to Train Syrian Rebels</th>\n",
       "      <td>5</td>\n",
       "    </tr>\n",
       "    <tr>\n",
       "      <th>Syria Militants Said to Recruit Visiting Americans to Attack U.S.</th>\n",
       "      <td>5</td>\n",
       "    </tr>\n",
       "    <tr>\n",
       "      <th>Swiss tourist gang-raped in India</th>\n",
       "      <td>5</td>\n",
       "    </tr>\n",
       "    <tr>\n",
       "      <th>Hungarian nationalist TV camera operator filmed kicking refugee children</th>\n",
       "      <td>5</td>\n",
       "    </tr>\n",
       "    <tr>\n",
       "      <th>ISIS  more dangerous than people realize</th>\n",
       "      <td>5</td>\n",
       "    </tr>\n",
       "  </tbody>\n",
       "</table>\n",
       "</div>"
      ],
      "text/plain": [
       "                                                                          n_posts\n",
       "Brutality of Syrian Rebels Posing Dilemma in West                               6\n",
       "David Cameron to quit after UK votes to leave EU                                5\n",
       "Putin nominated for Nobel Peace Prize                                           5\n",
       "South Korea reveals it has a plan to assassinate Kim Jong Un                    5\n",
       "Samsung Galaxy Note 3 Leaked camera image                                       5\n",
       "Obama Administration Ends Pentagon Program to Train Syrian Rebels               5\n",
       "Syria Militants Said to Recruit Visiting Americans to Attack U.S.               5\n",
       "Swiss tourist gang-raped in India                                               5\n",
       "Hungarian nationalist TV camera operator filmed kicking refugee children        5\n",
       "ISIS  more dangerous than people realize                                        5"
      ]
     },
     "execution_count": 13,
     "metadata": {},
     "output_type": "execute_result"
    }
   ],
   "source": [
    "rep_titles = pd.DataFrame(worldnews.title.value_counts()).rename(columns={'title':'n_posts'})\n",
    "rep_titles = rep_titles[rep_titles['n_posts'] > 1]\n",
    "rep_titles.head(10)"
   ]
  },
  {
   "cell_type": "code",
   "execution_count": 11,
   "metadata": {},
   "outputs": [
    {
     "data": {
      "text/plain": [
       "'Brutality of Syrian Rebels Posing Dilemma in West'"
      ]
     },
     "execution_count": 11,
     "metadata": {},
     "output_type": "execute_result"
    }
   ],
   "source": [
    "rep_titles.iloc[0].name"
   ]
  },
  {
   "cell_type": "code",
   "execution_count": 14,
   "metadata": {},
   "outputs": [
    {
     "data": {
      "text/html": [
       "<div>\n",
       "<style scoped>\n",
       "    .dataframe tbody tr th:only-of-type {\n",
       "        vertical-align: middle;\n",
       "    }\n",
       "\n",
       "    .dataframe tbody tr th {\n",
       "        vertical-align: top;\n",
       "    }\n",
       "\n",
       "    .dataframe thead th {\n",
       "        text-align: right;\n",
       "    }\n",
       "</style>\n",
       "<table border=\"1\" class=\"dataframe\">\n",
       "  <thead>\n",
       "    <tr style=\"text-align: right;\">\n",
       "      <th></th>\n",
       "      <th>author</th>\n",
       "      <th>up_votes</th>\n",
       "      <th>over_18</th>\n",
       "    </tr>\n",
       "    <tr>\n",
       "      <th>date_created</th>\n",
       "      <th></th>\n",
       "      <th></th>\n",
       "      <th></th>\n",
       "    </tr>\n",
       "  </thead>\n",
       "  <tbody>\n",
       "    <tr>\n",
       "      <th>2013-09-06</th>\n",
       "      <td>BillTowne</td>\n",
       "      <td>57</td>\n",
       "      <td>False</td>\n",
       "    </tr>\n",
       "    <tr>\n",
       "      <th>2013-09-06</th>\n",
       "      <td>GreyMatter22</td>\n",
       "      <td>31</td>\n",
       "      <td>False</td>\n",
       "    </tr>\n",
       "    <tr>\n",
       "      <th>2013-09-05</th>\n",
       "      <td>0x0E</td>\n",
       "      <td>28</td>\n",
       "      <td>False</td>\n",
       "    </tr>\n",
       "    <tr>\n",
       "      <th>2013-09-05</th>\n",
       "      <td>Jewpiter</td>\n",
       "      <td>19</td>\n",
       "      <td>False</td>\n",
       "    </tr>\n",
       "    <tr>\n",
       "      <th>2013-09-05</th>\n",
       "      <td>erowidtrance</td>\n",
       "      <td>12</td>\n",
       "      <td>False</td>\n",
       "    </tr>\n",
       "    <tr>\n",
       "      <th>2013-09-05</th>\n",
       "      <td>emr1028</td>\n",
       "      <td>7</td>\n",
       "      <td>False</td>\n",
       "    </tr>\n",
       "  </tbody>\n",
       "</table>\n",
       "</div>"
      ],
      "text/plain": [
       "                    author  up_votes  over_18\n",
       "date_created                                 \n",
       "2013-09-06       BillTowne        57    False\n",
       "2013-09-06    GreyMatter22        31    False\n",
       "2013-09-05            0x0E        28    False\n",
       "2013-09-05        Jewpiter        19    False\n",
       "2013-09-05    erowidtrance        12    False\n",
       "2013-09-05         emr1028         7    False"
      ]
     },
     "execution_count": 14,
     "metadata": {},
     "output_type": "execute_result"
    }
   ],
   "source": [
    "worldnews[worldnews['title'] == rep_titles.iloc[0].name]\\\n",
    "    .loc[:,['author','up_votes','over_18']]\\\n",
    "    .sort_values(by='up_votes', ascending=False)"
   ]
  },
  {
   "cell_type": "markdown",
   "metadata": {},
   "source": [
    "These titles seem to be re-posts of the same news article. For example [`Jewpiter`](https://www.reddit.com/r/worldnews/comments/1ls2q0/brutality_of_syrian_rebels_posing_dilemma_in_west/) and [`erowidtrance`](https://www.reddit.com/r/worldnews/comments/1lsskg/brutality_of_syrian_rebels_posing_dilemma_in_west/) both made posts on the same [NYTimes article](https://www.nytimes.com/2013/09/05/world/middleeast/brutality-of-syrian-rebels-pose-dilemma-in-west.html). For future text analysis, we should make sure we only view the unique titles.\n",
    "\n",
    "Also, even though `BillTowne` and `GreyMatter22` re-posted the same article a day after everyone else, they still got the most up votes (I think that's funny)."
   ]
  },
  {
   "cell_type": "markdown",
   "metadata": {},
   "source": [
    "## Activity Over Time"
   ]
  },
  {
   "cell_type": "code",
   "execution_count": 220,
   "metadata": {},
   "outputs": [
    {
     "data": {
      "text/plain": [
       "<matplotlib.axes._subplots.AxesSubplot at 0x7ff422108d60>"
      ]
     },
     "execution_count": 220,
     "metadata": {},
     "output_type": "execute_result"
    },
    {
     "data": {
      "image/png": "[encoded data removed]",
      "text/plain": [
       "<Figure size 864x288 with 1 Axes>"
      ]
     },
     "metadata": {
      "needs_background": "light"
     },
     "output_type": "display_data"
    }
   ],
   "source": [
    "worldnews.groupby('date_created')['up_votes'].mean().plot()\n",
    "worldnews.groupby('date_created')['up_votes'].mean().rolling(window=120).mean().plot(figsize= (12, 4))"
   ]
  },
  {
   "cell_type": "code",
   "execution_count": 224,
   "metadata": {},
   "outputs": [
    {
     "data": {
      "text/plain": [
       "<matplotlib.axes._subplots.AxesSubplot at 0x7ff40384e880>"
      ]
     },
     "execution_count": 224,
     "metadata": {},
     "output_type": "execute_result"
    },
    {
     "data": {
      "image/png": "[encoded data removed]",
      "text/plain": [
       "<Figure size 432x288 with 1 Axes>"
      ]
     },
     "metadata": {
      "needs_background": "light"
     },
     "output_type": "display_data"
    }
   ],
   "source": [
    "worldnews.groupby(worldnews.index.month)['up_votes'].mean().plot.bar()"
   ]
  },
  {
   "cell_type": "code",
   "execution_count": 226,
   "metadata": {},
   "outputs": [
    {
     "data": {
      "text/plain": [
       "<matplotlib.axes._subplots.AxesSubplot at 0x7ff4037b4610>"
      ]
     },
     "execution_count": 226,
     "metadata": {},
     "output_type": "execute_result"
    },
    {
     "data": {
      "image/png": "[encoded data removed]",
      "text/plain": [
       "<Figure size 432x288 with 1 Axes>"
      ]
     },
     "metadata": {
      "needs_background": "light"
     },
     "output_type": "display_data"
    }
   ],
   "source": [
    "worldnews.groupby(worldnews.index.dayofweek)['up_votes'].mean().plot.bar()"
   ]
  },
  {
   "cell_type": "markdown",
   "metadata": {},
   "source": [
    "## Top Authors (up-votes, number of posts)"
   ]
  },
  {
   "cell_type": "code",
   "execution_count": 127,
   "metadata": {},
   "outputs": [],
   "source": [
    "def posts_by(author, n=10):\n",
    "    return worldnews[worldnews['author'] == author].sort_values(by='up_votes', ascending=False)[0:n]"
   ]
  },
  {
   "cell_type": "markdown",
   "metadata": {},
   "source": [
    "### By Up-Votes"
   ]
  },
  {
   "cell_type": "code",
   "execution_count": 118,
   "metadata": {},
   "outputs": [],
   "source": [
    "top_10_authors = pd.DataFrame(worldnews.groupby('author')['up_votes'].sum())\\\n",
    "    .assign(n_over_18 = worldnews.groupby('author')['over_18'].sum())\\\n",
    "    .sort_values(by='up_votes', ascending=False)[0:10]\n",
    "    \n",
    "top_10_authors.reset_index(drop=False, inplace=True)"
   ]
  },
  {
   "cell_type": "code",
   "execution_count": 119,
   "metadata": {},
   "outputs": [
    {
     "data": {
      "text/plain": [
       "Text(0.5, 1.0, 'Most up-voted authors')"
      ]
     },
     "execution_count": 119,
     "metadata": {},
     "output_type": "execute_result"
    },
    {
     "data": {
      "image/png": "[encoded data removed]",
      "text/plain": [
       "<Figure size 432x288 with 1 Axes>"
      ]
     },
     "metadata": {
      "needs_background": "light"
     },
     "output_type": "display_data"
    }
   ],
   "source": [
    "ax = sns.barplot(x='author', \n",
    "                 y='up_votes', \n",
    "                 data=top_10_authors,\n",
    "                 palette='Blues_d')\n",
    "ax.set_xticklabels(ax.get_xticklabels(), rotation=90)\n",
    "ax.set_title('Most up-voted authors')"
   ]
  },
  {
   "cell_type": "code",
   "execution_count": 128,
   "metadata": {},
   "outputs": [
    {
     "data": {
      "text/html": [
       "<div>\n",
       "<style scoped>\n",
       "    .dataframe tbody tr th:only-of-type {\n",
       "        vertical-align: middle;\n",
       "    }\n",
       "\n",
       "    .dataframe tbody tr th {\n",
       "        vertical-align: top;\n",
       "    }\n",
       "\n",
       "    .dataframe thead th {\n",
       "        text-align: right;\n",
       "    }\n",
       "</style>\n",
       "<table border=\"1\" class=\"dataframe\">\n",
       "  <thead>\n",
       "    <tr style=\"text-align: right;\">\n",
       "      <th></th>\n",
       "      <th>up_votes</th>\n",
       "      <th>title</th>\n",
       "      <th>over_18</th>\n",
       "      <th>author</th>\n",
       "    </tr>\n",
       "    <tr>\n",
       "      <th>date_created</th>\n",
       "      <th></th>\n",
       "      <th></th>\n",
       "      <th></th>\n",
       "      <th></th>\n",
       "    </tr>\n",
       "  </thead>\n",
       "  <tbody>\n",
       "    <tr>\n",
       "      <th>2016-08-31</th>\n",
       "      <td>7925</td>\n",
       "      <td>Alzheimer s disease breakthrough as new drug clears toxic proteins from brains of patients</td>\n",
       "      <td>False</td>\n",
       "      <td>maxwellhill</td>\n",
       "    </tr>\n",
       "    <tr>\n",
       "      <th>2016-08-11</th>\n",
       "      <td>7596</td>\n",
       "      <td>Scotland just produced enough wind energy to power it for an entire day: Strong winds combined with low demand on a sunny summer Sunday help Scotland reach ‘significant milestone’ on path towards ditching fossil fuels entirely</td>\n",
       "      <td>False</td>\n",
       "      <td>maxwellhill</td>\n",
       "    </tr>\n",
       "    <tr>\n",
       "      <th>2015-10-28</th>\n",
       "      <td>7568</td>\n",
       "      <td>The star witness in a case pitting rainforest villagers against a multinational oil giant has admitted to lying under oath in an effort to help Chevron avoid paying a $9.5 billion judgment for deliberate pollution of the Ecuadorian Amazon</td>\n",
       "      <td>False</td>\n",
       "      <td>maxwellhill</td>\n",
       "    </tr>\n",
       "    <tr>\n",
       "      <th>2016-11-11</th>\n",
       "      <td>7430</td>\n",
       "      <td>Mexico s  avengers  backed by public sick of crime and lack of punishment: A wave of vigilante killings – such as the bus passenger who shot four robbers – has struck a chord with Mexicans fed up with crime, corruption and impunity</td>\n",
       "      <td>False</td>\n",
       "      <td>maxwellhill</td>\n",
       "    </tr>\n",
       "    <tr>\n",
       "      <th>2016-08-04</th>\n",
       "      <td>7386</td>\n",
       "      <td>Italy passes law to encourage all supermarkets to give unsold food to needy:  The food currently wasted in Europe could feed 200 million people,  says the UN Food and Agricultural</td>\n",
       "      <td>False</td>\n",
       "      <td>maxwellhill</td>\n",
       "    </tr>\n",
       "    <tr>\n",
       "      <th>2016-11-02</th>\n",
       "      <td>7332</td>\n",
       "      <td>Montreal police tracked journalist s iPhone: “I was living in the fiction that police officers wouldn’t dare do that, and in the fiction that judges were protecting journalists -- and hence the public -- against this type of police intrusion,” Lagace said. “Clearly, I was naive.”</td>\n",
       "      <td>False</td>\n",
       "      <td>maxwellhill</td>\n",
       "    </tr>\n",
       "    <tr>\n",
       "      <th>2016-05-30</th>\n",
       "      <td>7290</td>\n",
       "      <td>Denmark to stop paying salary to royal family grandchildren:  Simple mathematics dictate that there needs to be some sort of limit. Otherwise within a few generations there will be several hundred princes and princesses who need an annual salary,  says a ruling party spokesman</td>\n",
       "      <td>False</td>\n",
       "      <td>maxwellhill</td>\n",
       "    </tr>\n",
       "    <tr>\n",
       "      <th>2016-06-05</th>\n",
       "      <td>7287</td>\n",
       "      <td>Pope Francis reveals new church law to deal with paedophile priests: Catholic bishops who fail to sack paedophile priests can be removed from office</td>\n",
       "      <td>False</td>\n",
       "      <td>maxwellhill</td>\n",
       "    </tr>\n",
       "    <tr>\n",
       "      <th>2016-09-30</th>\n",
       "      <td>7252</td>\n",
       "      <td>EU plan to give free Interrail pass to every 18-year-old in Europe on their birthday:  The mobility of young people is essential in promoting a sense of belonging to Europe</td>\n",
       "      <td>False</td>\n",
       "      <td>maxwellhill</td>\n",
       "    </tr>\n",
       "    <tr>\n",
       "      <th>2016-10-20</th>\n",
       "      <td>7209</td>\n",
       "      <td>‘Alan Turing law’ unveiled by government will posthumously pardon thousands of gay men convicted of historic offences: The Enigma codebreaker s great neice says Government decision is  absolutely tremendous</td>\n",
       "      <td>False</td>\n",
       "      <td>maxwellhill</td>\n",
       "    </tr>\n",
       "  </tbody>\n",
       "</table>\n",
       "</div>"
      ],
      "text/plain": [
       "              up_votes  \\\n",
       "date_created             \n",
       "2016-08-31        7925   \n",
       "2016-08-11        7596   \n",
       "2015-10-28        7568   \n",
       "2016-11-11        7430   \n",
       "2016-08-04        7386   \n",
       "2016-11-02        7332   \n",
       "2016-05-30        7290   \n",
       "2016-06-05        7287   \n",
       "2016-09-30        7252   \n",
       "2016-10-20        7209   \n",
       "\n",
       "                                                                                                                                                                                                                                                                                                 title  \\\n",
       "date_created                                                                                                                                                                                                                                                                                             \n",
       "2016-08-31                                                                                                                                                                                                  Alzheimer s disease breakthrough as new drug clears toxic proteins from brains of patients   \n",
       "2016-08-11                                                          Scotland just produced enough wind energy to power it for an entire day: Strong winds combined with low demand on a sunny summer Sunday help Scotland reach ‘significant milestone’ on path towards ditching fossil fuels entirely   \n",
       "2015-10-28                                              The star witness in a case pitting rainforest villagers against a multinational oil giant has admitted to lying under oath in an effort to help Chevron avoid paying a $9.5 billion judgment for deliberate pollution of the Ecuadorian Amazon   \n",
       "2016-11-11                                                     Mexico s  avengers  backed by public sick of crime and lack of punishment: A wave of vigilante killings – such as the bus passenger who shot four robbers – has struck a chord with Mexicans fed up with crime, corruption and impunity   \n",
       "2016-08-04                                                                                                         Italy passes law to encourage all supermarkets to give unsold food to needy:  The food currently wasted in Europe could feed 200 million people,  says the UN Food and Agricultural   \n",
       "2016-11-02    Montreal police tracked journalist s iPhone: “I was living in the fiction that police officers wouldn’t dare do that, and in the fiction that judges were protecting journalists -- and hence the public -- against this type of police intrusion,” Lagace said. “Clearly, I was naive.”   \n",
       "2016-05-30       Denmark to stop paying salary to royal family grandchildren:  Simple mathematics dictate that there needs to be some sort of limit. Otherwise within a few generations there will be several hundred princes and princesses who need an annual salary,  says a ruling party spokesman   \n",
       "2016-06-05                                                                                                                                        Pope Francis reveals new church law to deal with paedophile priests: Catholic bishops who fail to sack paedophile priests can be removed from office   \n",
       "2016-09-30                                                                                                               EU plan to give free Interrail pass to every 18-year-old in Europe on their birthday:  The mobility of young people is essential in promoting a sense of belonging to Europe    \n",
       "2016-10-20                                                                             ‘Alan Turing law’ unveiled by government will posthumously pardon thousands of gay men convicted of historic offences: The Enigma codebreaker s great neice says Government decision is  absolutely tremendous    \n",
       "\n",
       "              over_18       author  \n",
       "date_created                        \n",
       "2016-08-31      False  maxwellhill  \n",
       "2016-08-11      False  maxwellhill  \n",
       "2015-10-28      False  maxwellhill  \n",
       "2016-11-11      False  maxwellhill  \n",
       "2016-08-04      False  maxwellhill  \n",
       "2016-11-02      False  maxwellhill  \n",
       "2016-05-30      False  maxwellhill  \n",
       "2016-06-05      False  maxwellhill  \n",
       "2016-09-30      False  maxwellhill  \n",
       "2016-10-20      False  maxwellhill  "
      ]
     },
     "execution_count": 128,
     "metadata": {},
     "output_type": "execute_result"
    }
   ],
   "source": [
    "posts_by('maxwellhill')"
   ]
  },
  {
   "cell_type": "markdown",
   "metadata": {},
   "source": [
    "## By Number of Posts"
   ]
  },
  {
   "cell_type": "code",
   "execution_count": 125,
   "metadata": {},
   "outputs": [],
   "source": [
    "n_posts = pd.DataFrame(worldnews.author.value_counts())\\\n",
    "    .rename(columns={'author':'n_posts'})[0:10]\n",
    "n_posts.reset_index(drop=False, inplace=True)"
   ]
  },
  {
   "cell_type": "code",
   "execution_count": 126,
   "metadata": {},
   "outputs": [
    {
     "data": {
      "text/plain": [
       "Text(0.5, 1.0, 'Number of posts per authors')"
      ]
     },
     "execution_count": 126,
     "metadata": {},
     "output_type": "execute_result"
    },
    {
     "data": {
      "image/png": "[encoded data removed]",
      "text/plain": [
       "<Figure size 432x288 with 1 Axes>"
      ]
     },
     "metadata": {
      "needs_background": "light"
     },
     "output_type": "display_data"
    }
   ],
   "source": [
    "ax = sns.barplot(x='index', \n",
    "                 y='n_posts', \n",
    "                 data=n_posts[0:10],\n",
    "                 palette='Blues_d')\n",
    "ax.set_xticklabels(ax.get_xticklabels(), rotation=90)\n",
    "ax.set_title('Number of posts per authors')"
   ]
  },
  {
   "cell_type": "code",
   "execution_count": 131,
   "metadata": {},
   "outputs": [
    {
     "data": {
      "text/html": [
       "<div>\n",
       "<style scoped>\n",
       "    .dataframe tbody tr th:only-of-type {\n",
       "        vertical-align: middle;\n",
       "    }\n",
       "\n",
       "    .dataframe tbody tr th {\n",
       "        vertical-align: top;\n",
       "    }\n",
       "\n",
       "    .dataframe thead th {\n",
       "        text-align: right;\n",
       "    }\n",
       "</style>\n",
       "<table border=\"1\" class=\"dataframe\">\n",
       "  <thead>\n",
       "    <tr style=\"text-align: right;\">\n",
       "      <th></th>\n",
       "      <th>up_votes</th>\n",
       "      <th>title</th>\n",
       "      <th>over_18</th>\n",
       "      <th>author</th>\n",
       "    </tr>\n",
       "    <tr>\n",
       "      <th>date_created</th>\n",
       "      <th></th>\n",
       "      <th></th>\n",
       "      <th></th>\n",
       "      <th></th>\n",
       "    </tr>\n",
       "  </thead>\n",
       "  <tbody>\n",
       "    <tr>\n",
       "      <th>2014-08-21</th>\n",
       "      <td>4833</td>\n",
       "      <td>The president of Indonesia, the world’s most populous Muslim-majority country, deemed the actions of the Islamic State in Iraq and Syria group “embarrassing” to the religion and called upon Muslim leaders to unite in tackling extremism</td>\n",
       "      <td>False</td>\n",
       "      <td>davidreiss666</td>\n",
       "    </tr>\n",
       "    <tr>\n",
       "      <th>2014-11-12</th>\n",
       "      <td>4407</td>\n",
       "      <td>Study: Brazilian cops killed more than 11,000 people in 5 years</td>\n",
       "      <td>False</td>\n",
       "      <td>davidreiss666</td>\n",
       "    </tr>\n",
       "    <tr>\n",
       "      <th>2014-06-11</th>\n",
       "      <td>4141</td>\n",
       "      <td>Chile rejects Patagonia wilderness dam project: The Chilean government has rejected a plan to build five hydroelectric dams on rivers in the south of the country. Its decision follows years of campaigning by environmentalists and local communities.</td>\n",
       "      <td>False</td>\n",
       "      <td>davidreiss666</td>\n",
       "    </tr>\n",
       "    <tr>\n",
       "      <th>2012-10-23</th>\n",
       "      <td>3299</td>\n",
       "      <td>A 28-year-old Tunisian who was caught on security camera stealing from a man who had fallen onto the tracks on the Stockholm subway and then leaving him to be hit by a train was sentenced to prison, deportation</td>\n",
       "      <td>False</td>\n",
       "      <td>davidreiss666</td>\n",
       "    </tr>\n",
       "    <tr>\n",
       "      <th>2014-04-12</th>\n",
       "      <td>3062</td>\n",
       "      <td>Armed men dressed in camouflage clothing have seized a police station in eastern Ukraine, officials say.</td>\n",
       "      <td>False</td>\n",
       "      <td>davidreiss666</td>\n",
       "    </tr>\n",
       "    <tr>\n",
       "      <th>2012-09-27</th>\n",
       "      <td>3025</td>\n",
       "      <td>Slavery Still Exists:  Photographs of human trafficking and enslavement around the world</td>\n",
       "      <td>False</td>\n",
       "      <td>davidreiss666</td>\n",
       "    </tr>\n",
       "    <tr>\n",
       "      <th>2012-08-10</th>\n",
       "      <td>3013</td>\n",
       "      <td>Commerzbank stops speculating on basic food prices: Germany s second-biggest lender, Commerzbank, says it will no longer participate in market speculation on basic food prices. The bank says it has removed all agricultural products from its funds for moral reasons.</td>\n",
       "      <td>False</td>\n",
       "      <td>davidreiss666</td>\n",
       "    </tr>\n",
       "    <tr>\n",
       "      <th>2013-01-16</th>\n",
       "      <td>2767</td>\n",
       "      <td>Insecticide  unacceptable  danger to bees, report finds -- Campaigners say the conclusion by the European Food Safety Authority is a  death knell  for neonicotinoid pesticides</td>\n",
       "      <td>False</td>\n",
       "      <td>davidreiss666</td>\n",
       "    </tr>\n",
       "    <tr>\n",
       "      <th>2013-08-02</th>\n",
       "      <td>2759</td>\n",
       "      <td>Berthold Beitz, a leading German industrialist who was credited with saving hundreds of Jews during World War II by employing them at the oil fields he managed in Nazi-occupied Poland, a rescue operation later compared to the more popularly known deeds of Oskar Schindler, died July 30. He was 99.</td>\n",
       "      <td>False</td>\n",
       "      <td>davidreiss666</td>\n",
       "    </tr>\n",
       "    <tr>\n",
       "      <th>2013-03-30</th>\n",
       "      <td>2638</td>\n",
       "      <td>South Korea Warns North of Punishment Should War Declaration Go Beyond Words: South Korea s Ministry of National Defense has issued a statement calling on Pyongyang to stop making what it calls unacceptable threats.</td>\n",
       "      <td>False</td>\n",
       "      <td>davidreiss666</td>\n",
       "    </tr>\n",
       "  </tbody>\n",
       "</table>\n",
       "</div>"
      ],
      "text/plain": [
       "              up_votes  \\\n",
       "date_created             \n",
       "2014-08-21        4833   \n",
       "2014-11-12        4407   \n",
       "2014-06-11        4141   \n",
       "2012-10-23        3299   \n",
       "2014-04-12        3062   \n",
       "2012-09-27        3025   \n",
       "2012-08-10        3013   \n",
       "2013-01-16        2767   \n",
       "2013-08-02        2759   \n",
       "2013-03-30        2638   \n",
       "\n",
       "                                                                                                                                                                                                                                                                                                                  title  \\\n",
       "date_created                                                                                                                                                                                                                                                                                                              \n",
       "2014-08-21                                                                  The president of Indonesia, the world’s most populous Muslim-majority country, deemed the actions of the Islamic State in Iraq and Syria group “embarrassing” to the religion and called upon Muslim leaders to unite in tackling extremism   \n",
       "2014-11-12                                                                                                                                                                                                                                              Study: Brazilian cops killed more than 11,000 people in 5 years   \n",
       "2014-06-11                                                     Chile rejects Patagonia wilderness dam project: The Chilean government has rejected a plan to build five hydroelectric dams on rivers in the south of the country. Its decision follows years of campaigning by environmentalists and local communities.   \n",
       "2012-10-23                                                                                           A 28-year-old Tunisian who was caught on security camera stealing from a man who had fallen onto the tracks on the Stockholm subway and then leaving him to be hit by a train was sentenced to prison, deportation   \n",
       "2014-04-12                                                                                                                                                                                                     Armed men dressed in camouflage clothing have seized a police station in eastern Ukraine, officials say.   \n",
       "2012-09-27                                                                                                                                                                                                                     Slavery Still Exists:  Photographs of human trafficking and enslavement around the world   \n",
       "2012-08-10                                    Commerzbank stops speculating on basic food prices: Germany s second-biggest lender, Commerzbank, says it will no longer participate in market speculation on basic food prices. The bank says it has removed all agricultural products from its funds for moral reasons.   \n",
       "2013-01-16                                                                                                                              Insecticide  unacceptable  danger to bees, report finds -- Campaigners say the conclusion by the European Food Safety Authority is a  death knell  for neonicotinoid pesticides   \n",
       "2013-08-02    Berthold Beitz, a leading German industrialist who was credited with saving hundreds of Jews during World War II by employing them at the oil fields he managed in Nazi-occupied Poland, a rescue operation later compared to the more popularly known deeds of Oskar Schindler, died July 30. He was 99.   \n",
       "2013-03-30                                                                                      South Korea Warns North of Punishment Should War Declaration Go Beyond Words: South Korea s Ministry of National Defense has issued a statement calling on Pyongyang to stop making what it calls unacceptable threats.   \n",
       "\n",
       "              over_18         author  \n",
       "date_created                          \n",
       "2014-08-21      False  davidreiss666  \n",
       "2014-11-12      False  davidreiss666  \n",
       "2014-06-11      False  davidreiss666  \n",
       "2012-10-23      False  davidreiss666  \n",
       "2014-04-12      False  davidreiss666  \n",
       "2012-09-27      False  davidreiss666  \n",
       "2012-08-10      False  davidreiss666  \n",
       "2013-01-16      False  davidreiss666  \n",
       "2013-08-02      False  davidreiss666  \n",
       "2013-03-30      False  davidreiss666  "
      ]
     },
     "execution_count": 131,
     "metadata": {},
     "output_type": "execute_result"
    }
   ],
   "source": [
    "posts_by('davidreiss666')"
   ]
  },
  {
   "cell_type": "markdown",
   "metadata": {},
   "source": [
    "## Author Activity: TODO: make neater"
   ]
  },
  {
   "cell_type": "code",
   "execution_count": 386,
   "metadata": {},
   "outputs": [],
   "source": [
    "import calendar\n",
    "def author_activity(author):\n",
    "    # filter by author name\n",
    "    temp = worldnews.filter(items=['up_votes','author'])[worldnews['author'] == author]\n",
    "    \n",
    "    # create new columns to groupby\n",
    "    temp['year'] = temp.index.year\n",
    "    temp['month'] = temp.index.month\n",
    "    temp['month'] = temp['month'].apply(lambda x: calendar.month_abbr[x])\n",
    "    temp.reset_index(drop=True, inplace=True)\n",
    "    \n",
    "    # aggregate\n",
    "    temp = temp.groupby(['year', 'month'])\\\n",
    "               .agg({'up_votes':'sum','author':'count'})\\\n",
    "               .rename(columns={'author':author[0:3]+'_posts', 'up_votes':author[0:3] + '_votes'})\n",
    "    \n",
    "    return temp"
   ]
  },
  {
   "cell_type": "code",
   "execution_count": 387,
   "metadata": {},
   "outputs": [],
   "source": [
    "auth1 = 'davidreiss666' \n",
    "auth2 = 'maxwellhill'\n",
    "\n",
    "auth1_act = author_activity(auth1)\n",
    "auth2_act = author_activity(auth2)"
   ]
  },
  {
   "cell_type": "code",
   "execution_count": 388,
   "metadata": {},
   "outputs": [
    {
     "data": {
      "text/plain": [
       "<matplotlib.axes._subplots.AxesSubplot at 0x7f3edb687b50>"
      ]
     },
     "execution_count": 388,
     "metadata": {},
     "output_type": "execute_result"
    },
    {
     "data": {
      "image/png": "[encoded data removed]",
      "text/plain": [
       "<Figure size 432x288 with 1 Axes>"
      ]
     },
     "metadata": {
      "needs_background": "light"
     },
     "output_type": "display_data"
    }
   ],
   "source": [
    "df_likes = pd.concat([auth1_act.iloc[:,0], auth2_act.iloc[:,0]], axis=1).fillna(0)\n",
    "df_likes.plot()"
   ]
  },
  {
   "cell_type": "code",
   "execution_count": 389,
   "metadata": {},
   "outputs": [
    {
     "data": {
      "text/plain": [
       "<matplotlib.axes._subplots.AxesSubplot at 0x7f3e92f907f0>"
      ]
     },
     "execution_count": 389,
     "metadata": {},
     "output_type": "execute_result"
    },
    {
     "data": {
      "image/png": "[encoded data removed]",
      "text/plain": [
       "<Figure size 432x288 with 1 Axes>"
      ]
     },
     "metadata": {
      "needs_background": "light"
     },
     "output_type": "display_data"
    }
   ],
   "source": [
    "df_posts = pd.concat([auth1_act.iloc[:,1], auth2_act.iloc[:,1]], axis=1).fillna(0)\n",
    "df_posts.plot()"
   ]
  },
  {
   "cell_type": "code",
   "execution_count": null,
   "metadata": {},
   "outputs": [],
   "source": []
  },
  {
   "cell_type": "markdown",
   "metadata": {},
   "source": [
    "## Top Posts"
   ]
  },
  {
   "cell_type": "code",
   "execution_count": 17,
   "metadata": {},
   "outputs": [
    {
     "data": {
      "text/plain": [
       "count    509236.000000\n",
       "mean        112.236283\n",
       "std         541.694675\n",
       "min           0.000000\n",
       "25%           1.000000\n",
       "50%           5.000000\n",
       "75%          16.000000\n",
       "max       21253.000000\n",
       "Name: up_votes, dtype: float64"
      ]
     },
     "execution_count": 17,
     "metadata": {},
     "output_type": "execute_result"
    }
   ],
   "source": [
    "worldnews.up_votes.describe()"
   ]
  },
  {
   "cell_type": "code",
   "execution_count": 18,
   "metadata": {},
   "outputs": [
    {
     "data": {
      "text/html": [
       "<div>\n",
       "<style scoped>\n",
       "    .dataframe tbody tr th:only-of-type {\n",
       "        vertical-align: middle;\n",
       "    }\n",
       "\n",
       "    .dataframe tbody tr th {\n",
       "        vertical-align: top;\n",
       "    }\n",
       "\n",
       "    .dataframe thead th {\n",
       "        text-align: right;\n",
       "    }\n",
       "</style>\n",
       "<table border=\"1\" class=\"dataframe\">\n",
       "  <thead>\n",
       "    <tr style=\"text-align: right;\">\n",
       "      <th></th>\n",
       "      <th>up_votes</th>\n",
       "      <th>title</th>\n",
       "      <th>over_18</th>\n",
       "      <th>author</th>\n",
       "    </tr>\n",
       "    <tr>\n",
       "      <th>date_created</th>\n",
       "      <th></th>\n",
       "      <th></th>\n",
       "      <th></th>\n",
       "      <th></th>\n",
       "    </tr>\n",
       "  </thead>\n",
       "  <tbody>\n",
       "    <tr>\n",
       "      <th>2015-06-20</th>\n",
       "      <td>21253</td>\n",
       "      <td>A biotech startup has managed to 3-D print fake rhino horns that carry the same genetic fingerprint as the actual horn. The company plans to flood Chinese rhino horn market at one-eighth of the price of the original, undercutting the price poachers can get and forcing them out eventually.</td>\n",
       "      <td>False</td>\n",
       "      <td>KRISHNA53</td>\n",
       "    </tr>\n",
       "    <tr>\n",
       "      <th>2015-08-24</th>\n",
       "      <td>13435</td>\n",
       "      <td>Twitter has forced 30 websites that archive politician s deleted tweets to shut down, removing an effective tool to keep politicians honest</td>\n",
       "      <td>False</td>\n",
       "      <td>joeyoungblood</td>\n",
       "    </tr>\n",
       "    <tr>\n",
       "      <th>2016-04-03</th>\n",
       "      <td>13244</td>\n",
       "      <td>2.6 terabyte leak of Panamanian shell company data reveals  how a global industry led by major banks, legal firms, and asset management companies secretly manages the estates of politicians, Fifa officials, fraudsters and drug smugglers, celebrities and professional athletes.</td>\n",
       "      <td>False</td>\n",
       "      <td>mister_geaux</td>\n",
       "    </tr>\n",
       "    <tr>\n",
       "      <th>2015-08-23</th>\n",
       "      <td>12333</td>\n",
       "      <td>The police officer who leaked the footage of the surfers paradise police brutality, where the victims blood was washed away by officers, has been criminally charged for bringing it to the publics view. Officers who did the bashing get nothing.</td>\n",
       "      <td>False</td>\n",
       "      <td>navysealassulter</td>\n",
       "    </tr>\n",
       "    <tr>\n",
       "      <th>2015-08-18</th>\n",
       "      <td>11288</td>\n",
       "      <td>Paris shooting survivor suing French media for giving away his location while he hid from shooters</td>\n",
       "      <td>False</td>\n",
       "      <td>seapiglet</td>\n",
       "    </tr>\n",
       "    <tr>\n",
       "      <th>2016-03-30</th>\n",
       "      <td>11108</td>\n",
       "      <td>Hundreds of thousands of leaked emails reveal massively widespread corruption in global oil industry</td>\n",
       "      <td>False</td>\n",
       "      <td>Xiroth</td>\n",
       "    </tr>\n",
       "    <tr>\n",
       "      <th>2015-09-18</th>\n",
       "      <td>10922</td>\n",
       "      <td>Brazil s Supreme Court has banned corporate contributions to political campaigns and parties</td>\n",
       "      <td>False</td>\n",
       "      <td>DoremusJessup</td>\n",
       "    </tr>\n",
       "    <tr>\n",
       "      <th>2015-08-20</th>\n",
       "      <td>10515</td>\n",
       "      <td>ISIS beheads 81-year-old pioneer archaeologist and foremost scholar on ancient Syria. Held captive for 1 month, he refused to tell ISIS the location of the treasures of Palmyra unto death.</td>\n",
       "      <td>False</td>\n",
       "      <td>DawgsOnTopUGA</td>\n",
       "    </tr>\n",
       "    <tr>\n",
       "      <th>2016-10-19</th>\n",
       "      <td>10394</td>\n",
       "      <td>Feeding cows seaweed could slash global greenhouse gas emissions, researchers say:  They discovered adding a small amount of dried seaweed to a cow s diet can reduce the amount of methane a cow produces by up to 99 per cent.</td>\n",
       "      <td>False</td>\n",
       "      <td>mvea</td>\n",
       "    </tr>\n",
       "    <tr>\n",
       "      <th>2015-08-07</th>\n",
       "      <td>10377</td>\n",
       "      <td>Brazilian radio host famous for exposing corruption in his city murdered while broadcasting live on the air by two gunmen.</td>\n",
       "      <td>False</td>\n",
       "      <td>fiffers</td>\n",
       "    </tr>\n",
       "  </tbody>\n",
       "</table>\n",
       "</div>"
      ],
      "text/plain": [
       "              up_votes  \\\n",
       "date_created             \n",
       "2015-06-20       21253   \n",
       "2015-08-24       13435   \n",
       "2016-04-03       13244   \n",
       "2015-08-23       12333   \n",
       "2015-08-18       11288   \n",
       "2016-03-30       11108   \n",
       "2015-09-18       10922   \n",
       "2015-08-20       10515   \n",
       "2016-10-19       10394   \n",
       "2015-08-07       10377   \n",
       "\n",
       "                                                                                                                                                                                                                                                                                                          title  \\\n",
       "date_created                                                                                                                                                                                                                                                                                                      \n",
       "2015-06-20    A biotech startup has managed to 3-D print fake rhino horns that carry the same genetic fingerprint as the actual horn. The company plans to flood Chinese rhino horn market at one-eighth of the price of the original, undercutting the price poachers can get and forcing them out eventually.   \n",
       "2015-08-24                                                                                                                                                          Twitter has forced 30 websites that archive politician s deleted tweets to shut down, removing an effective tool to keep politicians honest   \n",
       "2016-04-03                2.6 terabyte leak of Panamanian shell company data reveals  how a global industry led by major banks, legal firms, and asset management companies secretly manages the estates of politicians, Fifa officials, fraudsters and drug smugglers, celebrities and professional athletes.    \n",
       "2015-08-23                                                  The police officer who leaked the footage of the surfers paradise police brutality, where the victims blood was washed away by officers, has been criminally charged for bringing it to the publics view. Officers who did the bashing get nothing.   \n",
       "2015-08-18                                                                                                                                                                                                   Paris shooting survivor suing French media for giving away his location while he hid from shooters   \n",
       "2016-03-30                                                                                                                                                                                                 Hundreds of thousands of leaked emails reveal massively widespread corruption in global oil industry   \n",
       "2015-09-18                                                                                                                                                                                                         Brazil s Supreme Court has banned corporate contributions to political campaigns and parties   \n",
       "2015-08-20                                                                                                         ISIS beheads 81-year-old pioneer archaeologist and foremost scholar on ancient Syria. Held captive for 1 month, he refused to tell ISIS the location of the treasures of Palmyra unto death.   \n",
       "2016-10-19                                                                    Feeding cows seaweed could slash global greenhouse gas emissions, researchers say:  They discovered adding a small amount of dried seaweed to a cow s diet can reduce the amount of methane a cow produces by up to 99 per cent.    \n",
       "2015-08-07                                                                                                                                                                           Brazilian radio host famous for exposing corruption in his city murdered while broadcasting live on the air by two gunmen.   \n",
       "\n",
       "              over_18            author  \n",
       "date_created                             \n",
       "2015-06-20      False         KRISHNA53  \n",
       "2015-08-24      False     joeyoungblood  \n",
       "2016-04-03      False      mister_geaux  \n",
       "2015-08-23      False  navysealassulter  \n",
       "2015-08-18      False         seapiglet  \n",
       "2016-03-30      False            Xiroth  \n",
       "2015-09-18      False     DoremusJessup  \n",
       "2015-08-20      False     DawgsOnTopUGA  \n",
       "2016-10-19      False              mvea  \n",
       "2015-08-07      False           fiffers  "
      ]
     },
     "execution_count": 18,
     "metadata": {},
     "output_type": "execute_result"
    }
   ],
   "source": [
    "worldnews.sort_values(by=\"up_votes\", ascending=False)[0:10]"
   ]
  },
  {
   "cell_type": "markdown",
   "metadata": {},
   "source": []
  },
  {
   "cell_type": "markdown",
   "metadata": {},
   "source": [
    "## SFW vs NSFW"
   ]
  },
  {
   "cell_type": "code",
   "execution_count": 67,
   "metadata": {},
   "outputs": [
    {
     "data": {
      "text/plain": [
       "False    508916\n",
       "True        320\n",
       "Name: over_18, dtype: int64"
      ]
     },
     "execution_count": 67,
     "metadata": {},
     "output_type": "execute_result"
    }
   ],
   "source": [
    "worldnews.over_18.value_counts()"
   ]
  },
  {
   "cell_type": "code",
   "execution_count": 46,
   "metadata": {},
   "outputs": [
    {
     "data": {
      "image/png": "[encoded data removed]",
      "text/plain": [
       "<Figure size 432x288 with 1 Axes>"
      ]
     },
     "metadata": {
      "needs_background": "light"
     },
     "output_type": "display_data"
    }
   ],
   "source": [
    "ax = sns.boxplot(x=\"over_18\", y=\"up_votes\", data=worldnews)\n",
    "ax.set_yscale(\"log\")"
   ]
  },
  {
   "cell_type": "code",
   "execution_count": 51,
   "metadata": {},
   "outputs": [
    {
     "data": {
      "text/html": [
       "<div>\n",
       "<style scoped>\n",
       "    .dataframe tbody tr th:only-of-type {\n",
       "        vertical-align: middle;\n",
       "    }\n",
       "\n",
       "    .dataframe tbody tr th {\n",
       "        vertical-align: top;\n",
       "    }\n",
       "\n",
       "    .dataframe thead th {\n",
       "        text-align: right;\n",
       "    }\n",
       "</style>\n",
       "<table border=\"1\" class=\"dataframe\">\n",
       "  <thead>\n",
       "    <tr style=\"text-align: right;\">\n",
       "      <th></th>\n",
       "      <th>up_votes</th>\n",
       "      <th>title</th>\n",
       "      <th>over_18</th>\n",
       "      <th>author</th>\n",
       "    </tr>\n",
       "    <tr>\n",
       "      <th>date_created</th>\n",
       "      <th></th>\n",
       "      <th></th>\n",
       "      <th></th>\n",
       "      <th></th>\n",
       "    </tr>\n",
       "  </thead>\n",
       "  <tbody>\n",
       "    <tr>\n",
       "      <th>2016-10-18</th>\n",
       "      <td>7941</td>\n",
       "      <td>Judge presiding over  El Chapo s  case shot, killed while jogging outside home</td>\n",
       "      <td>True</td>\n",
       "      <td>IsleCook</td>\n",
       "    </tr>\n",
       "    <tr>\n",
       "      <th>2016-09-25</th>\n",
       "      <td>6322</td>\n",
       "      <td>[NSFL] Australian child molester Peter Scully faces death penalty in Philippines - Scully  filmed his torture and rape of young girls as he made them dig their own graves  and  laughed, joked and acted nonchalant about his alleged crimes</td>\n",
       "      <td>True</td>\n",
       "      <td>ExWhySaid</td>\n",
       "    </tr>\n",
       "    <tr>\n",
       "      <th>2016-01-07</th>\n",
       "      <td>5878</td>\n",
       "      <td>Armed suspect shot dead after trying to storm Paris police station</td>\n",
       "      <td>True</td>\n",
       "      <td>rawmas02</td>\n",
       "    </tr>\n",
       "    <tr>\n",
       "      <th>2016-05-17</th>\n",
       "      <td>5617</td>\n",
       "      <td>Syria Army killed over 200 ISIS militants in 3-day long offensive in Deir Ezzor</td>\n",
       "      <td>True</td>\n",
       "      <td>orangeflower2015</td>\n",
       "    </tr>\n",
       "    <tr>\n",
       "      <th>2014-09-05</th>\n",
       "      <td>5507</td>\n",
       "      <td>Man escapes ISIS execution</td>\n",
       "      <td>True</td>\n",
       "      <td>brothamo</td>\n",
       "    </tr>\n",
       "    <tr>\n",
       "      <th>2016-05-13</th>\n",
       "      <td>4839</td>\n",
       "      <td>ISIS massacre 14 Real Madrid fans at supporters club in Baghdad</td>\n",
       "      <td>True</td>\n",
       "      <td>PeterG92</td>\n",
       "    </tr>\n",
       "    <tr>\n",
       "      <th>2015-06-17</th>\n",
       "      <td>4209</td>\n",
       "      <td>The fight is on to stop an annual Chinese event which is expected to involve the slaughter of more than 10,000 dogs, some of whom are burned or boiled alive.</td>\n",
       "      <td>True</td>\n",
       "      <td>ShakoWasAngry</td>\n",
       "    </tr>\n",
       "    <tr>\n",
       "      <th>2014-04-21</th>\n",
       "      <td>3831</td>\n",
       "      <td>China: “Violent Government Thugs” Beaten To Death By Angry Crowds After They Killed A Man Documenting Their Brutality</td>\n",
       "      <td>True</td>\n",
       "      <td>helpmesleep666</td>\n",
       "    </tr>\n",
       "    <tr>\n",
       "      <th>2016-01-18</th>\n",
       "      <td>3823</td>\n",
       "      <td>ISIS commits largest massacre since Syrian conflict by dumping 280 dead in the river and taking 400 hostages</td>\n",
       "      <td>True</td>\n",
       "      <td>AllenDono</td>\n",
       "    </tr>\n",
       "    <tr>\n",
       "      <th>2014-01-23</th>\n",
       "      <td>3738</td>\n",
       "      <td>Video of riot police stripping detained protester naked in the snow at tempatures below 0 while taking pictures of him. Reports of police torture continue in Kyiv, Ukraine.</td>\n",
       "      <td>True</td>\n",
       "      <td>_skylark</td>\n",
       "    </tr>\n",
       "  </tbody>\n",
       "</table>\n",
       "</div>"
      ],
      "text/plain": [
       "              up_votes  \\\n",
       "date_created             \n",
       "2016-10-18        7941   \n",
       "2016-09-25        6322   \n",
       "2016-01-07        5878   \n",
       "2016-05-17        5617   \n",
       "2014-09-05        5507   \n",
       "2016-05-13        4839   \n",
       "2015-06-17        4209   \n",
       "2014-04-21        3831   \n",
       "2016-01-18        3823   \n",
       "2014-01-23        3738   \n",
       "\n",
       "                                                                                                                                                                                                                                                       title  \\\n",
       "date_created                                                                                                                                                                                                                                                   \n",
       "2016-10-18                                                                                                                                                                    Judge presiding over  El Chapo s  case shot, killed while jogging outside home   \n",
       "2016-09-25    [NSFL] Australian child molester Peter Scully faces death penalty in Philippines - Scully  filmed his torture and rape of young girls as he made them dig their own graves  and  laughed, joked and acted nonchalant about his alleged crimes    \n",
       "2016-01-07                                                                                                                                                                                Armed suspect shot dead after trying to storm Paris police station   \n",
       "2016-05-17                                                                                                                                                                   Syria Army killed over 200 ISIS militants in 3-day long offensive in Deir Ezzor   \n",
       "2014-09-05                                                                                                                                                                                                                        Man escapes ISIS execution   \n",
       "2016-05-13                                                                                                                                                                                   ISIS massacre 14 Real Madrid fans at supporters club in Baghdad   \n",
       "2015-06-17                                                                                     The fight is on to stop an annual Chinese event which is expected to involve the slaughter of more than 10,000 dogs, some of whom are burned or boiled alive.   \n",
       "2014-04-21                                                                                                                             China: “Violent Government Thugs” Beaten To Death By Angry Crowds After They Killed A Man Documenting Their Brutality   \n",
       "2016-01-18                                                                                                                                      ISIS commits largest massacre since Syrian conflict by dumping 280 dead in the river and taking 400 hostages   \n",
       "2014-01-23                                                                      Video of riot police stripping detained protester naked in the snow at tempatures below 0 while taking pictures of him. Reports of police torture continue in Kyiv, Ukraine.   \n",
       "\n",
       "              over_18            author  \n",
       "date_created                             \n",
       "2016-10-18       True          IsleCook  \n",
       "2016-09-25       True         ExWhySaid  \n",
       "2016-01-07       True          rawmas02  \n",
       "2016-05-17       True  orangeflower2015  \n",
       "2014-09-05       True          brothamo  \n",
       "2016-05-13       True          PeterG92  \n",
       "2015-06-17       True     ShakoWasAngry  \n",
       "2014-04-21       True    helpmesleep666  \n",
       "2016-01-18       True         AllenDono  \n",
       "2014-01-23       True          _skylark  "
      ]
     },
     "execution_count": 51,
     "metadata": {},
     "output_type": "execute_result"
    }
   ],
   "source": [
    "worldnews[worldnews.over_18 == True]\\\n",
    "    .sort_values(by='up_votes', ascending=False)[0:10]"
   ]
  },
  {
   "cell_type": "markdown",
   "metadata": {},
   "source": []
  },
  {
   "cell_type": "markdown",
   "metadata": {},
   "source": [
    "# Text Analysis"
   ]
  },
  {
   "cell_type": "code",
   "execution_count": 425,
   "metadata": {},
   "outputs": [
    {
     "name": "stderr",
     "output_type": "stream",
     "text": [
      "[nltk_data] Downloading package stopwords to\n",
      "[nltk_data]     /home/viggyravi/nltk_data...\n",
      "[nltk_data]   Package stopwords is already up-to-date!\n",
      "[nltk_data] Downloading package vader_lexicon to\n",
      "[nltk_data]     /home/viggyravi/nltk_data...\n",
      "[nltk_data]   Package vader_lexicon is already up-to-date!\n",
      "[nltk_data] Downloading package punkt to /home/viggyravi/nltk_data...\n",
      "[nltk_data]   Package punkt is already up-to-date!\n"
     ]
    }
   ],
   "source": [
    "import nltk\n",
    "nltk.download(['stopwords','vader_lexicon','punkt'])\n",
    "\n",
    "import pickle\n",
    "import re\n",
    "import string\n",
    "from nltk.corpus import stopwords\n",
    "from nltk.stem import WordNetLemmatizer\n",
    "from nltk import word_tokenize\n",
    "from nltk.sentiment.vader import SentimentIntensityAnalyzer"
   ]
  },
  {
   "cell_type": "markdown",
   "metadata": {},
   "source": [
    "## Creating title key words\n",
    "\n",
    "First, I will tokenize the `titles` using the standard `word_tokenize` function from `nltk`. Then, I will create a word dictionary to evaluate the tokens `word_tokenize` has created."
   ]
  },
  {
   "cell_type": "code",
   "execution_count": 428,
   "metadata": {},
   "outputs": [],
   "source": [
    "stopwords = stopwords.words('english') + list(string.punctuation)\n",
    "stopwords = stop_words + ['”', '“', '’', '‘', '..', '...'] + ['video','nsfw']"
   ]
  },
  {
   "cell_type": "code",
   "execution_count": 429,
   "metadata": {},
   "outputs": [],
   "source": [
    "re1 = r\"\\w+\"        # words only\n",
    "re2 = r\"\\$\"         # dollars\n",
    "re3 = r\"#[0-9]*\\w+\" # hashtags\n",
    "re4 = r\"\\/[r]/\\w+\"  # subreddits\n",
    "\n",
    "generic_re = re.compile(\"(%s|%s|%s|%s)\" % (re1, re2, re3, re4))\n",
    "tokenizer = nltk.RegexpTokenizer(generic_re)"
   ]
  },
  {
   "cell_type": "code",
   "execution_count": null,
   "metadata": {},
   "outputs": [],
   "source": [
    "# TODO: example cases"
   ]
  },
  {
   "cell_type": "code",
   "execution_count": 447,
   "metadata": {},
   "outputs": [],
   "source": [
    "tkzr = nltk.RegexpTokenizer(generic_re)\n",
    "ltzr = WordNetLemmatizer()\n",
    "\n",
    "def find_key_words(df_titles):    \n",
    "    # tokenize using RegexpTokenizer\n",
    "    tokens = df_titles.map(tkzr.tokenize)\n",
    "    \n",
    "    # remove stopwords and lemmatize\n",
    "    for i, title in enumerate(tokens):\n",
    "        tokens[i] = [ltzr.lemmatize(w.lower()) for w in title if w.lower() not in stopwords and len(w)>3]\n",
    "        \n",
    "    return tokens"
   ]
  },
  {
   "cell_type": "code",
   "execution_count": 448,
   "metadata": {},
   "outputs": [
    {
     "name": "stdout",
     "output_type": "stream",
     "text": [
      "CPU times: user 1min 12s, sys: 875 ms, total: 1min 13s\n",
      "Wall time: 1min 13s\n"
     ]
    }
   ],
   "source": [
    "%time key_words = find_key_words(worldnews.title)"
   ]
  },
  {
   "cell_type": "code",
   "execution_count": 449,
   "metadata": {},
   "outputs": [
    {
     "data": {
      "text/plain": [
       "date_created\n",
       "2008-02-09    [japan, say, russian, bomber, violated, airspace, york, time]\n",
       "2008-02-09                   [another, assault, suit, halliburton, covered]\n",
       "Name: title, dtype: object"
      ]
     },
     "execution_count": 449,
     "metadata": {},
     "output_type": "execute_result"
    }
   ],
   "source": [
    "key_words[100:102]"
   ]
  },
  {
   "cell_type": "code",
   "execution_count": 450,
   "metadata": {},
   "outputs": [
    {
     "data": {
      "text/plain": [
       "[('china', 26395),\n",
       " ('say', 25432),\n",
       " ('year', 21184),\n",
       " ('attack', 19819),\n",
       " ('syria', 19026),\n",
       " ('russia', 18772),\n",
       " ('world', 18241),\n",
       " ('state', 17094),\n",
       " ('government', 17014),\n",
       " ('police', 16660)]"
      ]
     },
     "execution_count": 450,
     "metadata": {},
     "output_type": "execute_result"
    }
   ],
   "source": [
    "re_all_tokens = list(itertools.chain.from_iterable(key_words))\n",
    "re_frqdst = nltk.FreqDist(t.lower() for t in re_all_tokens)\n",
    "re_frqdst.most_common(10)"
   ]
  },
  {
   "cell_type": "markdown",
   "metadata": {},
   "source": [
    "## Tell me about"
   ]
  },
  {
   "cell_type": "code",
   "execution_count": null,
   "metadata": {},
   "outputs": [],
   "source": []
  },
  {
   "cell_type": "code",
   "execution_count": null,
   "metadata": {},
   "outputs": [],
   "source": []
  },
  {
   "cell_type": "code",
   "execution_count": null,
   "metadata": {},
   "outputs": [],
   "source": []
  },
  {
   "cell_type": "markdown",
   "metadata": {},
   "source": [
    "## Sentiment analysis"
   ]
  },
  {
   "cell_type": "code",
   "execution_count": null,
   "metadata": {},
   "outputs": [],
   "source": []
  },
  {
   "cell_type": "code",
   "execution_count": null,
   "metadata": {},
   "outputs": [],
   "source": []
  },
  {
   "cell_type": "code",
   "execution_count": null,
   "metadata": {},
   "outputs": [],
   "source": []
  },
  {
   "cell_type": "markdown",
   "metadata": {},
   "source": [
    "## Sentiment over time"
   ]
  },
  {
   "cell_type": "code",
   "execution_count": null,
   "metadata": {},
   "outputs": [],
   "source": []
  },
  {
   "cell_type": "code",
   "execution_count": null,
   "metadata": {},
   "outputs": [],
   "source": []
  },
  {
   "cell_type": "code",
   "execution_count": null,
   "metadata": {},
   "outputs": [],
   "source": []
  },
  {
   "cell_type": "markdown",
   "metadata": {},
   "source": [
    "# Categorizing titles using LDA"
   ]
  },
  {
   "cell_type": "code",
   "execution_count": 266,
   "metadata": {
    "collapsed": true,
    "jupyter": {
     "outputs_hidden": true
    }
   },
   "outputs": [
    {
     "name": "stdout",
     "output_type": "stream",
     "text": [
      "The autoreload extension is already loaded. To reload it, use:\n",
      "  %reload_ext autoreload\n"
     ]
    },
    {
     "name": "stderr",
     "output_type": "stream",
     "text": [
      "[nltk_data] Downloading package stopwords to\n",
      "[nltk_data]     /home/viggyravi/nltk_data...\n",
      "[nltk_data]   Package stopwords is already up-to-date!\n",
      "[nltk_data] Downloading package vader_lexicon to\n",
      "[nltk_data]     /home/viggyravi/nltk_data...\n",
      "[nltk_data]   Package vader_lexicon is already up-to-date!\n",
      "[nltk_data] Downloading package punkt to /home/viggyravi/nltk_data...\n",
      "[nltk_data]   Package punkt is already up-to-date!\n"
     ]
    }
   ],
   "source": [
    "%load_ext autoreload\n",
    "%autoreload\n",
    "\n",
    "import pickle\n",
    "\n",
    "import nltk\n",
    "nltk.download([\n",
    "    'stopwords',\n",
    "    'vader_lexicon',\n",
    "    'punkt'])\n",
    "\n",
    "import string\n",
    "from nltk.corpus import stopwords\n",
    "from nltk import word_tokenize\n",
    "from nltk.stem import WordNetLemmatizer\n",
    "from nltk.sentiment.vader import SentimentIntensityAnalyzer\n",
    "\n",
    "from gensim.corpora import Dictionary\n",
    "from gensim.models import LdaModel\n",
    "from gensim.utils import simple_preprocess"
   ]
  },
  {
   "cell_type": "markdown",
   "metadata": {},
   "source": [
    "## Step 0: Define stopwords"
   ]
  },
  {
   "cell_type": "code",
   "execution_count": 6,
   "metadata": {},
   "outputs": [],
   "source": [
    "stop_words = stopwords.words('english') + list(string.punctuation)\n",
    "stop_words = stop_words + ['”', '“', '’', '‘', '..', '...'] + ['video','nsfw']"
   ]
  },
  {
   "cell_type": "markdown",
   "metadata": {},
   "source": [
    "## Step 1: Select unique titles from dataset"
   ]
  },
  {
   "cell_type": "code",
   "execution_count": 180,
   "metadata": {
    "collapsed": true,
    "jupyter": {
     "outputs_hidden": true
    }
   },
   "outputs": [
    {
     "data": {
      "text/plain": [
       "array(['Scores killed in Pakistan clashes',\n",
       "       'Japan resumes refuelling mission',\n",
       "       'US presses Egypt on Gaza border',\n",
       "       'Jump-start economy: Give health care to all ',\n",
       "       'Council of Europe bashes EU&UN terror blacklist'], dtype=object)"
      ]
     },
     "execution_count": 180,
     "metadata": {},
     "output_type": "execute_result"
    }
   ],
   "source": [
    "titles = worldnews.title.unique()\n",
    "titles[0:5]"
   ]
  },
  {
   "cell_type": "markdown",
   "metadata": {},
   "source": [
    "## Step 2: Prepare data (remove stopwords and lemmatize)"
   ]
  },
  {
   "cell_type": "code",
   "execution_count": 98,
   "metadata": {},
   "outputs": [],
   "source": [
    "# Step 2: Prepare Data (Remove stopwords and lemmatize)\n",
    "\n",
    "lemmatizer = WordNetLemmatizer()\n",
    "\n",
    "def process_data(titles):\n",
    "    data_processed = []\n",
    "    \n",
    "    # for each title\n",
    "    for title in titles:\n",
    "        sent_out = []\n",
    "        \n",
    "        # for each word in title\n",
    "        for wd in title.split():\n",
    "            # remove stop words\n",
    "            if wd not in stop_words:\n",
    "                # lemmatize\n",
    "                lemmatized_word = lemmatizer.lemmatize(wd)\n",
    "                \n",
    "                # find pos tag\n",
    "                tag = nltk.pos_tag([lemmatized_word])\n",
    "                \n",
    "                # select important pos only\n",
    "                if tag[0][1].startswith(('NN','VB','JJ','RB')): sent_out += [wd.lower()]\n",
    "                else: continue\n",
    "        \n",
    "        data_processed.append(sent_out)\n",
    "    \n",
    "    return data_processed "
   ]
  },
  {
   "cell_type": "code",
   "execution_count": 103,
   "metadata": {
    "collapsed": true,
    "jupyter": {
     "outputs_hidden": true
    }
   },
   "outputs": [
    {
     "name": "stdout",
     "output_type": "stream",
     "text": [
      "CPU times: user 12min 9s, sys: 3min 45s, total: 15min 55s\n",
      "Wall time: 16min 3s\n"
     ]
    }
   ],
   "source": [
    "%time titles_processed = process_data(titles)"
   ]
  },
  {
   "cell_type": "code",
   "execution_count": 105,
   "metadata": {
    "collapsed": true,
    "jupyter": {
     "outputs_hidden": true
    }
   },
   "outputs": [
    {
     "data": {
      "text/plain": [
       "[['scores', 'killed', 'pakistan', 'clashes'],\n",
       " ['japan', 'resumes', 'refuelling', 'mission'],\n",
       " ['us', 'presses', 'egypt', 'gaza', 'border'],\n",
       " ['jump-start', 'economy:', 'give', 'health', 'care'],\n",
       " ['council', 'europe', 'bashes', 'eu&un', 'terror', 'blacklist']]"
      ]
     },
     "execution_count": 105,
     "metadata": {},
     "output_type": "execute_result"
    }
   ],
   "source": [
    "# glimpse at processed data\n",
    "titles_processed[0:5]"
   ]
  },
  {
   "cell_type": "code",
   "execution_count": 107,
   "metadata": {
    "collapsed": true,
    "jupyter": {
     "outputs_hidden": true
    }
   },
   "outputs": [
    {
     "name": "stdout",
     "output_type": "stream",
     "text": [
      "Saved data to ./data/titles_processed.\n"
     ]
    }
   ],
   "source": [
    "# Save processed data\n",
    "save('titles_processed', titles_processed)"
   ]
  },
  {
   "cell_type": "markdown",
   "metadata": {},
   "source": [
    "## Step 3: Create the inputs of LDA model (dictionary, corpus)"
   ]
  },
  {
   "cell_type": "code",
   "execution_count": 7,
   "metadata": {
    "collapsed": true,
    "jupyter": {
     "outputs_hidden": true
    }
   },
   "outputs": [
    {
     "name": "stdout",
     "output_type": "stream",
     "text": [
      "Loaded data from ./data/titles_processed.\n"
     ]
    }
   ],
   "source": [
    "titles_processed = load('titles_processed')"
   ]
  },
  {
   "cell_type": "code",
   "execution_count": 119,
   "metadata": {
    "collapsed": true,
    "jupyter": {
     "outputs_hidden": true
    }
   },
   "outputs": [
    {
     "name": "stdout",
     "output_type": "stream",
     "text": [
      "CPU times: user 9.08 s, sys: 0 ns, total: 9.08 s\n",
      "Wall time: 9.08 s\n",
      "Number of unique tokens: 201956\n"
     ]
    }
   ],
   "source": [
    "%time dct = Dictionary(titles_processed)\n",
    "print('Number of unique tokens: %d' % len(dct))"
   ]
  },
  {
   "cell_type": "code",
   "execution_count": 103,
   "metadata": {},
   "outputs": [],
   "source": [
    "# Filter out words that occur less than 15 documents, or more than 100% of the documents.\n",
    "dct.filter_extremes(no_below=29, no_above=1.0)"
   ]
  },
  {
   "cell_type": "code",
   "execution_count": 104,
   "metadata": {
    "collapsed": true,
    "jupyter": {
     "outputs_hidden": true
    }
   },
   "outputs": [
    {
     "name": "stdout",
     "output_type": "stream",
     "text": [
      "The word \"toppled\" appears in 87 documents\n"
     ]
    }
   ],
   "source": [
    "n = 8015\n",
    "print('The word \"' + dct[n] + '\" appears in', dct.dfs[n],'documents')"
   ]
  },
  {
   "cell_type": "code",
   "execution_count": 120,
   "metadata": {
    "collapsed": true,
    "jupyter": {
     "outputs_hidden": true
    }
   },
   "outputs": [
    {
     "data": {
      "text/plain": [
       "{194855: '\\x07illegal',\n",
       " 4887: '!!',\n",
       " 20234: '!!!',\n",
       " 57994: '!!!!',\n",
       " 35524: '!!!?',\n",
       " 92162: '!!)',\n",
       " 63573: '!!,',\n",
       " 86221: '!!enjoy,thanks!!',\n",
       " 72221: '!)',\n",
       " 33014: '!=',\n",
       " 112987: '!?',\n",
       " 113927: '!north',\n",
       " 34981: '#000000',\n",
       " 13487: '#1',\n",
       " 76379: '#1,',\n",
       " 80090: '#1.',\n",
       " 151428: '#10)',\n",
       " 65850: '#11',\n",
       " 42508: '#11:',\n",
       " 66345: '#12',\n",
       " 20125: '#12,',\n",
       " 145757: '#126',\n",
       " 118471: '#13:',\n",
       " 169913: '#147notjustanumber:',\n",
       " 181834: '#15girls',\n",
       " 153324: '#17',\n",
       " 15501: '#1:',\n",
       " 40857: '#2',\n",
       " 107409: '#2,',\n",
       " 35355: '#2...',\n",
       " 81072: '#203',\n",
       " 9240: '#23:',\n",
       " 102771: '#25s',\n",
       " 104882: '#27o',\n",
       " 77640: '#2:',\n",
       " 24320: '#2s',\n",
       " 65750: '#3',\n",
       " 107738: '#3,',\n",
       " 80396: '#3.',\n",
       " 80183: '#31',\n",
       " 37298: '#38:',\n",
       " 45775: '#4',\n",
       " 77188: '#4,',\n",
       " 39289: '#40:',\n",
       " 153724: '#48kmarch',\n",
       " 81271: '#4;',\n",
       " 77253: '#5',\n",
       " 107739: '#5.',\n",
       " 153319: '#52966',\n",
       " 40858: '#54,295',\n",
       " 138351: '#6',\n",
       " 77254: '#6,',\n",
       " 46893: '#7',\n",
       " 18358: '#8',\n",
       " 148120: '#8)',\n",
       " 105574: '#8n',\n",
       " 128381: '#9',\n",
       " 149493: '#9)',\n",
       " 162822: '#africa',\n",
       " 172010: '#al_qaeda',\n",
       " 197650: '#alepposchildren:',\n",
       " 70633: '#anonops',\n",
       " 190052: '#armenia:',\n",
       " 195728: '#asamother:',\n",
       " 162482: '#askacop',\n",
       " 153249: '#askdermer',\n",
       " 168315: '#askhamas',\n",
       " 123881: '#assad',\n",
       " 104253: '#bahrainstylereforms.',\n",
       " 171043: '#bali9',\n",
       " 138616: '#bbctrending:',\n",
       " 163163: '#blacklivesmatter',\n",
       " 101079: '#blackoutjo',\n",
       " 144707: '#blacktuesday',\n",
       " 136708: '#bloodycyclists',\n",
       " 90596: '#bluebra”',\n",
       " 158251: '#bokoharam:',\n",
       " 154666: '#boycottwoolworths',\n",
       " 122611: '#brahmos,',\n",
       " 149636: '#bringbackourgirls',\n",
       " 151949: '#bringbackourhumvee',\n",
       " 183208: '#brusselslockdown',\n",
       " 70634: '#cablegate',\n",
       " 74037: '#cairo',\n",
       " 185921: '#callbrussels',\n",
       " 115956: '#catalonia',\n",
       " 186181: '#childrenofsyria',\n",
       " 157522: '#china,',\n",
       " 135425: '#china:',\n",
       " 75489: '#christchurch',\n",
       " 117137: '#cispablackout',\n",
       " 185652: '#cleanforthequeen',\n",
       " 75318: '#cn220',\n",
       " 166846: '#coin',\n",
       " 160458: '#cometlanding',\n",
       " 122750: '#dancewithme',\n",
       " 159632: '#daysofdarkness,',\n",
       " 187599: '#deutschebank',\n",
       " 120990: '#direngeziparkı',\n",
       " 163042: '#dred',\n",
       " 168181: '#dresscodepm',\n",
       " 167671: '#dsquaw',\n",
       " 122820: '#duranadam:',\n",
       " 159293: '#ebola',\n",
       " 154101: '#ebolaoutbreak:',\n",
       " 73510: '#egypt',\n",
       " 148595: '#epnvsinternet:',\n",
       " 75490: '#eqnz',\n",
       " 144271: '#euromaidan',\n",
       " 171202: '#expo2015',\n",
       " 142812: '#facebookis10',\n",
       " 136376: '#fauxpause',\n",
       " 75464: '#feb20',\n",
       " 119735: '#fitchthehomeless',\n",
       " 62237: '#flotilla',\n",
       " 183254: '#flowthroughistanbul',\n",
       " 189681: '#flydubaigate',\n",
       " 163951: '#foxnewsfacts',\n",
       " 130565: '#freebb.',\n",
       " 128608: '#freechelseamanning',\n",
       " 115957: '#freedom',\n",
       " 170948: '#freedomday',\n",
       " 170927: '#gameoveriran',\n",
       " 153484: '#gaza',\n",
       " 183458: '#girlsatdhabas',\n",
       " 150451: '#globalselfie?',\n",
       " 171262: '#gohomeindianmedia',\n",
       " 117902: '#guardian',\n",
       " 181409: '#guatemala',\n",
       " 117903: '#hacked',\n",
       " 189385: '#hamas:',\n",
       " 150359: '#happiness',\n",
       " 122114: '#hashtags',\n",
       " 172051: '#hezbollah',\n",
       " 181714: '#hinkley',\n",
       " 46224: '#honduras.',\n",
       " 197361: '#hongkongisnotchina:',\n",
       " 160868: '#icebucketchallenge',\n",
       " 108513: '#idlenomore',\n",
       " 162357: '#illridewithyou',\n",
       " 162409: '#illridewithyou:',\n",
       " 161862: '#india',\n",
       " 46296: '#interview,',\n",
       " 90998: '#iran',\n",
       " 44320: '#iranelection',\n",
       " 132070: '#iranian',\n",
       " 199193: '#iranianwomenlovecycling:',\n",
       " 172052: '#iraq-shia',\n",
       " 89356: '#irony',\n",
       " 172011: '#isis',\n",
       " 155299: '#isismediablackout',\n",
       " 155335: '#isismediablackout:',\n",
       " 123882: '#islamist',\n",
       " 178490: '#israel',\n",
       " 53440: '#israelsarmy',\n",
       " 189844: '#iwishiwaswiththem:',\n",
       " 91625: '#jan17',\n",
       " 73708: '#jan25',\n",
       " 73398: '#jan25:',\n",
       " 73511: '#jan28',\n",
       " 73720: '#jan30,',\n",
       " 132721: '#jeans',\n",
       " 163884: '#jesuisahmed:',\n",
       " 164058: '#jesuischarlie',\n",
       " 149568: '#joinus.',\n",
       " 157338: '#joycott',\n",
       " 158153: '#jsil:',\n",
       " 160237: '#jsil?',\n",
       " 190064: '#karabakh',\n",
       " 190068: '#karabakh,',\n",
       " 190207: '#karabakh:',\n",
       " 182086: '#killallwhitemen',\n",
       " 160860: '#kissoflove:',\n",
       " 153396: '#letsikhsplay',\n",
       " 187765: '#letthemstay',\n",
       " 77471: '#libya',\n",
       " 171687: '#londonattack',\n",
       " 201807: '#maltesergate:',\n",
       " 172440: '#marref',\n",
       " 145541: '#maryamshafipour,',\n",
       " 169547: '#massdebate',\n",
       " 175606: '#mecca_live-',\n",
       " 117222: '#mentionthe450',\n",
       " 153480: '#mh17',\n",
       " 158763: '#mh17.',\n",
       " 146664: '#mh370',\n",
       " 146826: '#mh370,',\n",
       " 135504: '#millionmaskmarch',\n",
       " 46297: '#mj',\n",
       " 144326: '#mobilizeforvenezuela',\n",
       " 163708: '#mouradhamydinnocent',\n",
       " 116494: '#muslimahpride',\n",
       " 160589: '#mydressmychoice',\n",
       " 184904: '#mytreedom',\n",
       " 166734: '#netanyahu',\n",
       " 160009: '#news',\n",
       " 125685: '#nisgate',\n",
       " 173163: '#niunamenos',\n",
       " 172500: '#norwaysupportsterror,',\n",
       " 140364: '#notamartyr',\n",
       " 157384: '#notinmyname',\n",
       " 125694: '#nov5th;',\n",
       " 169793: '#novip?',\n",
       " 136990: '#nsa',\n",
       " 181715: '#nuclear',\n",
       " 168060: '#obamayankeegohome',\n",
       " 157804: '#occupycentral',\n",
       " 91626: '#occupycongress',\n",
       " 121239: '#occupygezi',\n",
       " 91024: '#occupynigeria:',\n",
       " 88362: '#occupyoakland',\n",
       " 121904: '#occupyturkey',\n",
       " 150769: '#ocupeestelita',\n",
       " 99422: '#opanontrademark',\n",
       " 135243: '#opaustralia;',\n",
       " 117046: '#opbahrain',\n",
       " 174504: '#opconfed',\n",
       " 194348: '#operationcroissant:',\n",
       " 70635: '#operationtakedown',\n",
       " 166048: '#opisis',\n",
       " 115771: '#opisrael',\n",
       " 115770: '#opisrael:',\n",
       " 182899: '#opparis,',\n",
       " 153687: '#opsavegaza:',\n",
       " 116508: '#opusa',\n",
       " 87855: '#ows',\n",
       " 196906: '#palestineishere:',\n",
       " 172497: '#palmyra',\n",
       " 190100: '#panamapapers',\n",
       " 190300: '#panamapapers:',\n",
       " 182608: '#paris',\n",
       " 182722: '#parisislife',\n",
       " 153036: '#pauseforpeace',\n",
       " 146062: '#peaceup',\n",
       " 162433: '#peshawarattack',\n",
       " 122527: '#pilgrims',\n",
       " 143543: '#pitbullbaby',\n",
       " 183785: '#popebars',\n",
       " 176635: '#pornban',\n",
       " 182646: '#porteouverte',\n",
       " 182620: '#porteouverte:',\n",
       " 140732: '#posmesalto',\n",
       " 194544: '#postrefracism:',\n",
       " 166202: '#powerball',\n",
       " 129954: '#prayforpeace:',\n",
       " 182933: '#prayforsyria',\n",
       " 194758: '#prayforturkey:',\n",
       " 181412: '#profileforpeace',\n",
       " 76094: '#prosvjed',\n",
       " 123317: '#provokatörmelihgökçek',\n",
       " 172053: '#ramadi',\n",
       " 168649: '#rapagainstrape',\n",
       " 151085: '#resetthenet',\n",
       " 136184: '#russiabansusd',\n",
       " 172118: '#saa',\n",
       " 170769: '#saferedmile?',\n",
       " 178491: '#sarcophagus',\n",
       " 151122: '#saveourboys',\n",
       " 150419: '#saveourguys:',\n",
       " 201111: '#savesouthafrica',\n",
       " 102759: '#savethearctic',\n",
       " 170670: '#savethemastiffs',\n",
       " 117904: '#sea',\n",
       " 174622: '#selfiewithdaughter',\n",
       " 124415: '#snowden',\n",
       " 167620: '#snowdennz',\n",
       " 80923: '#spanishrevolution',\n",
       " 180485: '#stopttip:',\n",
       " 73721: '#sudan,',\n",
       " 73722: '#sudanjan30',\n",
       " 107522: '#sudanrevolts',\n",
       " 183730: '#suemesaudi:',\n",
       " 174432: '#summerinsyria',\n",
       " 170742: '#sydneystorm',\n",
       " 123883: '#syria',\n",
       " 92347: '#syrianembassy',\n",
       " 74038: '#tahrir',\n",
       " 122689: '#taksim',\n",
       " 144700: '#telleurope,',\n",
       " 92803: '#tellviceverything',\n",
       " 170928: '#thankyousalman,',\n",
       " 167814: '#thedress',\n",
       " 196683: '#theolympics',\n",
       " 73259: '#thepalestinianpapers',\n",
       " 195768: '#thisflag',\n",
       " 175477: '#thisisacoup',\n",
       " 175491: '#thisisacoup:',\n",
       " 173184: '#top10criminals',\n",
       " 184488: '#trollingday',\n",
       " 193191: '#trybeatingmelightly',\n",
       " 191591: '#ttipleaks',\n",
       " 117905: '#twitter',\n",
       " 67561: '#ufo',\n",
       " 179603: '#unanotecalles',\n",
       " 132071: '#us',\n",
       " 46298: '#video',\n",
       " 95709: '#wegotbinladen',\n",
       " 48807: '#welovethenhs',\n",
       " 170086: '#wewillburnusagain',\n",
       " 183777: '#whatwouldmagufulido:',\n",
       " 174448: '#whoops:',\n",
       " 70636: '#wikileaks',\n",
       " 76344: '#winning,',\n",
       " 171444: '#withoutshoes',\n",
       " 151599: '#world',\n",
       " 151658: '#worldcup',\n",
       " 152339: '#worldcup.',\n",
       " 194230: '#worldrefugeeday:',\n",
       " 188590: '#yearinspace',\n",
       " 169885: '#yemencrisis:',\n",
       " 155395: '#yesbecause',\n",
       " 184470: '#youaintnomuslimbruv',\n",
       " 184094: '#youaintnomuslimbruv:',\n",
       " 198076: '#youarenotwelcome',\n",
       " 178365: '#youstink',\n",
       " 184452: '#zumamustfall',\n",
       " 122897: '#дансwithme',\n",
       " 122947: '#дансwithme?',\n",
       " 147394: '#انتخبوا_العرص',\n",
       " 151775: '#هنتحرش_بالرجالة',\n",
       " 24237: '$$',\n",
       " 7061: '$$$',\n",
       " 46886: '$$?',\n",
       " 31982: '$)',\n",
       " 119688: '$.',\n",
       " 188444: '$0',\n",
       " 188088: '$0.01',\n",
       " 195400: '$0.015!',\n",
       " 110728: '$0.05',\n",
       " 66516: '$0.06',\n",
       " 180552: '$0.07',\n",
       " 150898: '$0.085',\n",
       " 102704: '$0.09/gallon',\n",
       " 21805: '$0.12',\n",
       " 173250: '$0.12/kwh',\n",
       " 171475: '$0.14',\n",
       " 173251: '$0.15/kwh',\n",
       " 137873: '$0.21/hour,',\n",
       " 173182: '$0.22',\n",
       " 184834: '$0.35',\n",
       " 99471: '$0.5',\n",
       " 83630: '$0.50',\n",
       " 24892: '$0.50/year',\n",
       " 154183: '$0.575',\n",
       " 139639: '$0.6',\n",
       " 139613: '$0.60',\n",
       " 159615: '$0.60)',\n",
       " 159316: '$0.62',\n",
       " 171476: '$0.68—as',\n",
       " 188223: '$0.6m',\n",
       " 150901: '$0.75',\n",
       " 186135: '$0.75.',\n",
       " 150774: '$0.8',\n",
       " 168126: '$0.85',\n",
       " 13803: '$1',\n",
       " 86577: '$1,',\n",
       " 95630: '$1,000',\n",
       " 10926: '$1,000,000',\n",
       " 130151: '$1,010,354,195',\n",
       " 167521: '$1,120',\n",
       " 166673: '$1,2',\n",
       " 106648: '$1,200',\n",
       " 79498: '$1,200).',\n",
       " 29920: '$1,223,250',\n",
       " 151590: '$1,250',\n",
       " 28428: '$1,250,000.',\n",
       " 82039: '$1,260',\n",
       " 201228: '$1,320',\n",
       " 2154: '$1,350',\n",
       " 116706: '$1,400',\n",
       " 116716: '$1,400,',\n",
       " 22335: '$1,485.55',\n",
       " 114255: '$1,500',\n",
       " 52789: '$1,500,000',\n",
       " 161397: '$1,500,000,000',\n",
       " 62925: '$1,560,',\n",
       " 194018: '$1,600',\n",
       " 180132: '$1,700',\n",
       " 157626: '$1,800',\n",
       " 107480: '$1,900,000,000',\n",
       " 104753: '$1,930',\n",
       " 168497: '$1-$5.4',\n",
       " 171007: '$1-10',\n",
       " 105432: '$1-billion',\n",
       " 193631: '$1-bn',\n",
       " 60282: '$1-million',\n",
       " 181269: '$1-per-pill',\n",
       " 191431: '$1-trillion',\n",
       " 146862: '$1.0',\n",
       " 89657: '$1.00.',\n",
       " 201123: '$1.07bn',\n",
       " 186968: '$1.08',\n",
       " 54352: '$1.1',\n",
       " 167694: '$1.10',\n",
       " 160917: '$1.13bn,',\n",
       " 33395: '$1.14',\n",
       " 67542: '$1.15',\n",
       " 150391: '$1.17',\n",
       " 152658: '$1.175bn',\n",
       " 95415: '$1.1b',\n",
       " 122049: '$1.1b.',\n",
       " 119860: '$1.1bn',\n",
       " 136772: '$1.1m',\n",
       " 141084: '$1.1tn',\n",
       " 31140: '$1.2',\n",
       " 184752: '$1.20',\n",
       " 98582: '$1.2172.',\n",
       " 98583: '$1.22—an',\n",
       " 125409: '$1.24',\n",
       " 199882: '$1.24.',\n",
       " 41762: '$1.25',\n",
       " 110605: '$1.25/day',\n",
       " 64549: '$1.25bn',\n",
       " 180899: '$1.25m',\n",
       " 160284: '$1.25tn',\n",
       " 99273: '$1.27',\n",
       " 133300: '$1.27-trillion',\n",
       " 142918: '$1.27bn',\n",
       " 110926: '$1.28',\n",
       " 182789: '$1.29',\n",
       " 182806: '$1.29b',\n",
       " 183539: '$1.29bn',\n",
       " 3408: '$1.2b',\n",
       " 122420: '$1.2bn',\n",
       " 123529: '$1.2m',\n",
       " 198001: '$1.2tn',\n",
       " 6676: '$1.3',\n",
       " 132221: '$1.3-billion',\n",
       " 195057: '$1.30',\n",
       " 195049: '$1.31',\n",
       " 93535: '$1.33',\n",
       " 106412: '$1.33bn',\n",
       " 111315: '$1.34m',\n",
       " 2309: '$1.35',\n",
       " 135290: '$1.35bn',\n",
       " 149936: '$1.37',\n",
       " 119306: '$1.37m',\n",
       " 33656: '$1.38',\n",
       " 139856: '$1.38mn',\n",
       " 121672: '$1.3b',\n",
       " 81110: '$1.3billion',\n",
       " 81136: '$1.3bn',\n",
       " 71572: '$1.3m',\n",
       " 132854: '$1.3tn',\n",
       " 24193: '$1.4',\n",
       " 188258: '$1.40',\n",
       " 33201: '$1.42',\n",
       " 42361: '$1.43b',\n",
       " 151476: '$1.44',\n",
       " 144967: '$1.45',\n",
       " 43186: '$1.45-billion',\n",
       " 135932: '$1.46',\n",
       " 201489: '$1.47',\n",
       " 34054: '$1.4b',\n",
       " 191755: '$1.4b+',\n",
       " 57043: '$1.4bn',\n",
       " 105950: '$1.4m',\n",
       " 190625: '$1.4tn',\n",
       " 18827: '$1.5',\n",
       " 151012: '$1.5-$2',\n",
       " 110751: '$1.5-billion',\n",
       " 154728: '$1.5-million',\n",
       " 185164: '$1.50',\n",
       " 65191: '$1.54',\n",
       " 166771: '$1.55b',\n",
       " 173021: '$1.55bn',\n",
       " 123195: '$1.56',\n",
       " 96534: '$1.5b',\n",
       " 161367: '$1.5billion',\n",
       " 27730: '$1.5bn',\n",
       " 71592: '$1.5m',\n",
       " 201938: '$1.5tn',\n",
       " 21319: '$1.6',\n",
       " 149884: '$1.6-billion',\n",
       " 72711: '$1.60',\n",
       " 21826: '$1.63',\n",
       " 36943: '$1.65',\n",
       " 162947: '$1.65bln',\n",
       " 143779: '$1.65bn',\n",
       " 87711: '$1.66',\n",
       " 87712: '$1.66bn',\n",
       " 28787: '$1.67',\n",
       " 185269: '$1.68',\n",
       " 133838: '$1.6b',\n",
       " 132117: '$1.6b.',\n",
       " 147250: '$1.6billion',\n",
       " 133916: '$1.6bln',\n",
       " 120095: '$1.6bn',\n",
       " 133892: '$1.6m',\n",
       " 171091: '$1.6tn',\n",
       " 16986: '$1.7',\n",
       " 150078: '$1.73',\n",
       " 157991: '$1.75',\n",
       " 186009: '$1.75,',\n",
       " 187654: '$1.75bn',\n",
       " 92871: '$1.75m',\n",
       " 123937: '$1.76',\n",
       " 63015: '$1.76,',\n",
       " 108687: '$1.76m',\n",
       " 153471: '$1.7b',\n",
       " 92757: '$1.7bn',\n",
       " 108699: '$1.7m',\n",
       " 43768: '$1.8',\n",
       " 139911: '$1.80',\n",
       " 184902: '$1.83',\n",
       " 184773: '$1.83b',\n",
       " 162901: '$1.87',\n",
       " 172246: '$1.87b',\n",
       " 184774: '$1.8b',\n",
       " 172365: '$1.8bn',\n",
       " 37305: '$1.8m',\n",
       " 25944: '$1.9',\n",
       " 178986: '$1.9-billion',\n",
       " 179504: '$1.90',\n",
       " 173733: '$1.91bn',\n",
       " 107535: '$1.92',\n",
       " 64176: '$1.93bn',\n",
       " 104499: '$1.95',\n",
       " 63016: '$1.98,',\n",
       " 107508: '$1.9bn',\n",
       " 149104: '$1.9m',\n",
       " 96961: '$1/2m',\n",
       " 181300: '$1/pill',\n",
       " 70361: '$1/second',\n",
       " 905: '$10',\n",
       " 17996: '$10,000',\n",
       " 55903: '$10,000,000,000',\n",
       " 136581: '$10,000-$50,000',\n",
       " 68416: '$10,000.',\n",
       " 195465: '$10,958',\n",
       " 171008: '$10-100',\n",
       " 194687: '$10-12',\n",
       " 183788: '$10-15',\n",
       " 109284: '$10-billion',\n",
       " 90200: '$10-million',\n",
       " 102705: '$10.12/gallon,',\n",
       " 190419: '$10.1m',\n",
       " 194367: '$10.2b',\n",
       " 194386: '$10.2bn.',\n",
       " 194378: '$10.3',\n",
       " 112145: '$10.3b',\n",
       " 92528: '$10.3bn',\n",
       " 92130: '$10.4',\n",
       " 55422: '$10.5',\n",
       " 189188: '$10.5b',\n",
       " 100415: '$10.5m',\n",
       " 175777: '$10.6',\n",
       " 17982: '$10.6bn',\n",
       " 75620: '$10.7',\n",
       " 75774: '$10.7b',\n",
       " 53254: '$10.8',\n",
       " 133657: '$10.8b',\n",
       " 12340: '$10.9',\n",
       " 167433: '$10/barrel,',\n",
       " 5551: '$100',\n",
       " 122585: '$100+m/year.',\n",
       " 36996: '$100,',\n",
       " 5576: '$100,000',\n",
       " 172948: '$100,000,',\n",
       " 171702: '$100,000,000',\n",
       " 33085: '$100,000,000,000,000',\n",
       " 136288: '$100,000.',\n",
       " 185797: '$100,000?',\n",
       " 89111: '$100-$110',\n",
       " 59584: '$100-105',\n",
       " 163913: '$100-a-barrel',\n",
       " 95633: '$100-a-pack',\n",
       " 109437: '$100-billion',\n",
       " 115010: '$100-million',\n",
       " 75658: '$100/barrel',\n",
       " 131661: '$100/month',\n",
       " 72793: '$1000',\n",
       " 93631: '$1000-$1500',\n",
       " 53341: '$1000/per',\n",
       " 68432: '$100000',\n",
       " 19593: '$100b',\n",
       " 190914: '$100bln',\n",
       " 100705: '$100bn',\n",
       " 112954: '$100bn,',\n",
       " 93492: '$100bn;',\n",
       " 32718: '$100k',\n",
       " 171298: '$100k+',\n",
       " 19297: '$100m',\n",
       " 127914: '$100m,',\n",
       " 100133: '$100million',\n",
       " 118884: '$100mln',\n",
       " 104853: '$100mn',\n",
       " 93134: '$100s',\n",
       " 93141: '$100s.',\n",
       " 189250: '$101',\n",
       " 149195: '$101bn.',\n",
       " 48629: '$102',\n",
       " 2320: '$102.08',\n",
       " 29971: '$102m',\n",
       " 131565: '$103',\n",
       " 35256: '$103,000',\n",
       " 162537: '$103,000-a-year',\n",
       " 2928: '$104',\n",
       " 108808: '$104m',\n",
       " 92977: '$105',\n",
       " 157754: '$105,000',\n",
       " 141721: '$105m',\n",
       " 180649: '$106',\n",
       " 194008: '$106,248',\n",
       " 93491: '$106.4',\n",
       " 76566: '$107',\n",
       " 182568: '$107b',\n",
       " 147926: '$108',\n",
       " 158992: '$108,000',\n",
       " 135611: '$108k',\n",
       " 126042: '$109',\n",
       " 107248: '$109bn',\n",
       " 53736: '$10b',\n",
       " 116948: '$10billion',\n",
       " 150808: '$10bln',\n",
       " 53710: '$10bn',\n",
       " 113342: '$10bn,',\n",
       " 71122: '$10bn.',\n",
       " 15907: '$10k',\n",
       " 11969: '$10m',\n",
       " 173348: '$10m,',\n",
       " 173357: '$10m:',\n",
       " 42889: '$10million',\n",
       " 183276: '$10mm',\n",
       " 162439: '$10mn',\n",
       " 16586: '$11',\n",
       " 94270: '$11,000',\n",
       " 68830: '$11,000)',\n",
       " 103028: '$11,111',\n",
       " 188953: '$11,300',\n",
       " 89314: '$11,500',\n",
       " 153136: '$11-billion',\n",
       " 110295: '$11.1',\n",
       " 68890: '$11.2',\n",
       " 181087: '$11.25',\n",
       " 192796: '$11.3',\n",
       " 145355: '$11.3bn',\n",
       " 148837: '$11.4',\n",
       " 148834: '$11.4bn',\n",
       " 38443: '$11.5',\n",
       " 90293: '$11.5m',\n",
       " 103771: '$11.6',\n",
       " 162868: '$11.7',\n",
       " 167562: '$11.8',\n",
       " 95570: '$11.85',\n",
       " 193053: '$11.8m',\n",
       " 164739: '$11.9',\n",
       " 42696: '$110',\n",
       " 103659: '$110,000',\n",
       " 8763: '$110.',\n",
       " 80464: '$110.8',\n",
       " 110540: '$1100',\n",
       " 172313: '$110bn',\n",
       " 182838: '$110m',\n",
       " 129045: '$111',\n",
       " 153928: '$111,000,',\n",
       " 153767: '$111k',\n",
       " 8892: '$112',\n",
       " 164799: '$112m',\n",
       " 68710: '$113',\n",
       " 120172: '$113bn',\n",
       " 95850: '$114b',\n",
       " 10074: '$115',\n",
       " 134740: '$115,000',\n",
       " 144540: '$115,000.',\n",
       " 190326: '$115m',\n",
       " 79890: '$116',\n",
       " 156546: '$116.8',\n",
       " 156540: '$116.8bn',\n",
       " 143751: '$117',\n",
       " 164152: '$117k',\n",
       " 22624: '$118',\n",
       " 185726: '$118,000',\n",
       " 198917: '$118m',\n",
       " 150192: '$119',\n",
       " 95953: '$119.9',\n",
       " 124718: '$119bn',\n",
       " 179488: '$119m',\n",
       " 85381: '$11b',\n",
       " 86567: '$11bln',\n",
       " 148885: '$11bn',\n",
       " 188171: '$11bn.',\n",
       " 197408: '$11k',\n",
       " 71283: '$11m',\n",
       " 178901: '$11mn,',\n",
       " 11076: '$12',\n",
       " 149252: '$12,',\n",
       " 79057: '$12,000',\n",
       " 180962: '$12,000.',\n",
       " 161035: '$12,000;',\n",
       " 42756: '$12,300.',\n",
       " 110865: '$12,500',\n",
       " 188508: '$12,725,724,536',\n",
       " 190857: '$12,750',\n",
       " 112452: '$12.',\n",
       " 187040: '$12.1',\n",
       " 87896: '$12.1m',\n",
       " 105584: '$12.2',\n",
       " 182779: '$12.2b',\n",
       " 184273: '$12.3',\n",
       " 73332: '$12.3m',\n",
       " 148870: '$12.4',\n",
       " 155642: '$12.5',\n",
       " 92700: '$12.5-billion',\n",
       " 48308: '$12.50',\n",
       " 86035: '$12.5m',\n",
       " 185238: '$12.65',\n",
       " 192746: '$12.7',\n",
       " 101018: '$12.9',\n",
       " 195300: '$12.9m',\n",
       " 12911: '$120',\n",
       " 154240: '$120,00',\n",
       " 41948: '$120,000',\n",
       " 144926: '$120,000,',\n",
       " 110319: '$120-million',\n",
       " 15382: '$120.',\n",
       " 12904: '$120/barrel:',\n",
       " 106542: '$1200',\n",
       " 95011: '$120;',\n",
       " 173419: '$120b',\n",
       " 107859: '$120k',\n",
       " 106934: '$120m',\n",
       " 199042: '$120m,',\n",
       " 117651: '$120mm)',\n",
       " 198857: '$120mn',\n",
       " 160823: '$121',\n",
       " 104802: '$121,000',\n",
       " 78937: '$122',\n",
       " 121921: '$122,000,',\n",
       " 122066: '$122k',\n",
       " 166454: '$122m',\n",
       " 117196: '$123',\n",
       " 166089: '$123.8',\n",
       " 198736: '$123m',\n",
       " 82619: '$124',\n",
       " 96355: '$124-billion',\n",
       " 81936: '$124bn',\n",
       " 100112: '$125',\n",
       " 85588: '$125,000',\n",
       " 93154: '$125,000,',\n",
       " 32751: '$125/each!',\n",
       " 154014: '$125m',\n",
       " 127732: '$126',\n",
       " 199770: '$1269.70',\n",
       " 95138: '$126bn',\n",
       " 85671: '$127',\n",
       " 119067: '$127,000',\n",
       " 47599: '$1270',\n",
       " 192106: '$127bn',\n",
       " 119150: '$127k',\n",
       " 186685: '$128',\n",
       " 85096: '$128,000',\n",
       " 180565: '$129',\n",
       " 15660: '$129,000',\n",
       " 31986: '$12b',\n",
       " 168362: '$12billion',\n",
       " 84546: '$12bn',\n",
       " 83728: '$12bn,',\n",
       " 88212: '$12k',\n",
       " 120983: '$12m',\n",
       " 66589: '$13',\n",
       " 107453: '$13(£8)',\n",
       " 100985: '$13,000',\n",
       " 146631: '$13,000.',\n",
       " 180413: '$13,200',\n",
       " 193740: '$13-million',\n",
       " 154787: '$13.3',\n",
       " 148824: '$13.35',\n",
       " 30898: '$13.4',\n",
       " 188170: '$13.5',\n",
       " 179448: '$13.50',\n",
       " 140885: '$13.6',\n",
       " 166816: '$13.7bn',\n",
       " 194009: '$13.85',\n",
       " 137469: '$13.8bn',\n",
       " 15383: '$130',\n",
       " 102752: '$130,000',\n",
       " 184437: '$130-billion',\n",
       " 142282: '$130-million',\n",
       " 171001: '$130k',\n",
       " 150972: '$130m',\n",
       " 48827: '$131.44',\n",
       " 192464: '$131m',\n",
       " 145469: '$132',\n",
       " 148973: '$132,000',\n",
       " 155411: '$132m',\n",
       " 15726: '$133',\n",
       " 43959: '$134',\n",
       " 43689: '$134.5',\n",
       " 15163: '$135',\n",
       " 162560: '$135m',\n",
       " 32015: '$136',\n",
       " 171315: '$136,000',\n",
       " 107249: '$136bn',\n",
       " 126644: '$136m',\n",
       " 126613: '$136m,',\n",
       " 119531: '$137',\n",
       " 48828: '$137.94',\n",
       " 123196: '$137;',\n",
       " 167418: '$137bn',\n",
       " 185442: '$137k',\n",
       " 117365: '$137m',\n",
       " 175083: '$138',\n",
       " 88812: '$138bn',\n",
       " 17352: '$139',\n",
       " 142696: '$139.2',\n",
       " 29999: '$139m',\n",
       " 114458: '$13b',\n",
       " 139076: '$13bil',\n",
       " 49132: '$13bn',\n",
       " 126964: '$13k',\n",
       " 60682: '$13k,',\n",
       " 192729: '$13m',\n",
       " 193738: '$13mn',\n",
       " 197972: '$13tn',\n",
       " 31677: '$14',\n",
       " 145063: '$14,',\n",
       " 91995: '$14,000',\n",
       " 92001: '$14,460',\n",
       " 144886: '$14,500',\n",
       " 147174: '$14-18',\n",
       " 96193: '$14-billion',\n",
       " 131329: '$14.1',\n",
       " 149524: '$14.2',\n",
       " 144498: '$14.25/hour',\n",
       " 174079: '$14.3tn',\n",
       " 195348: '$14.4',\n",
       " 101045: '$14.5',\n",
       " 198027: '$14.5b',\n",
       " 109827: '$14.5bn',\n",
       " 183380: '$14.5m',\n",
       " 164047: '$14.6',\n",
       " 194621: '$14.7',\n",
       " 194705: '$14.7bn',\n",
       " 184954: '$14.85',\n",
       " 18192: '$140',\n",
       " 9264: '$140,000',\n",
       " 9071: '$140,000,',\n",
       " 154330: '$140-million',\n",
       " 88475: '$140bn',\n",
       " 136126: '$142',\n",
       " 136123: '$142.4',\n",
       " 136199: '$142m.',\n",
       " 19968: '$143',\n",
       " 128484: '$143,000',\n",
       " 150773: '$143.8',\n",
       " 84018: '$144',\n",
       " 126388: '$145',\n",
       " 188965: '$145,000',\n",
       " 89514: '$145m',\n",
       " 64208: '$146',\n",
       " 158554: '$146bn',\n",
       " 26770: '$147',\n",
       " 142697: '$148',\n",
       " 179910: '$149',\n",
       " 124719: '$149bn',\n",
       " 198912: '$14b',\n",
       " 59337: '$14bn',\n",
       " 104144: '$14m',\n",
       " 65056: '$14mn',\n",
       " 18031: '$15',\n",
       " 19819: '$15,000',\n",
       " 147032: '$15-20',\n",
       " 139078: '$15-billion',\n",
       " 50480: '$15-million',\n",
       " 136616: '$15.',\n",
       " 99049: '$15.1',\n",
       " 105268: '$15.1-billion',\n",
       " 200006: '$15.2',\n",
       " 163560: '$15.3',\n",
       " 73021: '$15.3bn',\n",
       " 45522: '$15.3m',\n",
       " 45304: '$15.5',\n",
       " 87729: '$15.6',\n",
       " 179196: '$15.7',\n",
       " 104039: '$15.8',\n",
       " 121210: '$15.80',\n",
       " 147326: '$15.9',\n",
       " 121986: '$15.98',\n",
       " 20357: '$150',\n",
       " 16027: '$150,000',\n",
       " 49197: '$150,000,',\n",
       " 27305: '$150,000.00',\n",
       " 59585: '$150/barrel',\n",
       " 171308: '$150/kwh',\n",
       " 137131: '$1500',\n",
       " 168346: '$15000',\n",
       " 150228: '$150bn',\n",
       " 172727: '$150k',\n",
       " 28878: '$150m',\n",
       " 141098: '$150usd',\n",
       " 164393: '$151.5',\n",
       " 178563: '$152',\n",
       " 164187: '$152,000)',\n",
       " 182345: '$152.7',\n",
       " 199769: '$152tn',\n",
       " 149869: '$153',\n",
       " 32476: '$153,000',\n",
       " 123638: '$154mn',\n",
       " 97415: '$155',\n",
       " 163979: '$155-bn',\n",
       " 154978: '$156',\n",
       " 121760: '$156,000',\n",
       " 109006: '$156m',\n",
       " 178922: '$157',\n",
       " 164240: '$158',\n",
       " 98463: '$158,000.',\n",
       " 192391: '$158tn',\n",
       " 126389: '$159',\n",
       " 102440: '$15b',\n",
       " 65990: '$15bn',\n",
       " 31091: '$15bn-a-year',\n",
       " 112793: '$15k',\n",
       " 43821: '$15m',\n",
       " 189289: '$15m-euro',\n",
       " 167660: '$15mn,',\n",
       " 98391: '$16',\n",
       " 59415: '$16,000',\n",
       " 143888: '$16,000)',\n",
       " 127056: '$16-million',\n",
       " 161959: '$16.4',\n",
       " 161958: '$16.4bn',\n",
       " 120478: '$16.4m',\n",
       " 105471: '$16.5',\n",
       " 81318: '$16.50',\n",
       " 186713: '$16.5b,',\n",
       " 27464: '$16.5bn',\n",
       " 172170: '$16.6',\n",
       " 170324: '$16.6b',\n",
       " 99857: '$16.6m',\n",
       " 133082: '$16.7',\n",
       " 128542: '$16.88',\n",
       " 190796: '$16/day',\n",
       " 50993: '$160',\n",
       " 126671: '$160,000',\n",
       " 183239: '$160b',\n",
       " 54658: '$160billion',\n",
       " 183234: '$160bn',\n",
       " 110033: '$160m',\n",
       " 157899: '$161',\n",
       " 142604: '$162',\n",
       " 161093: '$162,000',\n",
       " 612: '$163',\n",
       " 103299: '$163m',\n",
       " 137413: '$164',\n",
       " 194461: '$164b',\n",
       " 103876: '$165',\n",
       " 139516: '$165)',\n",
       " 201437: '$165k',\n",
       " 168746: '$166',\n",
       " 34716: '$167',\n",
       " 98388: '$16bn',\n",
       " 92180: '$16m',\n",
       " 58212: '$17',\n",
       " 115631: '$17,000',\n",
       " 144283: '$17,200',\n",
       " 18473: '$17-million',\n",
       " 18728: '$17.00',\n",
       " 89241: '$17.2',\n",
       " 172966: '$17.29/hour',\n",
       " 168119: '$17.3',\n",
       " 154646: '$17.35',\n",
       " 168154: '$17.5',\n",
       " 200439: '$17.5-billion',\n",
       " 166121: '$17.5bn',\n",
       " 18446: '$17.65',\n",
       " 179113: '$17.7',\n",
       " 193102: '$17.70',\n",
       " 179140: '$17.7b',\n",
       " 129623: '$17.8',\n",
       " 19729: '$170',\n",
       " 148877: '$170,000',\n",
       " 30118: '$170-million',\n",
       " 182391: '$170.4',\n",
       " 182370: '$170.4m',\n",
       " 188435: '$1700',\n",
       " 92970: '$170b',\n",
       " 168294: '$170bn',\n",
       " 197814: '$170m',\n",
       " 146789: '$172.5m',\n",
       " 126335: '$172b',\n",
       " 160017: '$173',\n",
       " 138574: '$173m',\n",
       " 143353: '$174',\n",
       " 36709: '$175',\n",
       " 169617: '$175,',\n",
       " 147120: '$175,000',\n",
       " 151528: '$175,000.',\n",
       " 171996: '$175m',\n",
       " 173304: '$176,000.',\n",
       " 157279: '$177',\n",
       " 192731: '$178',\n",
       " 136192: '$179',\n",
       " 159216: '$179,000',\n",
       " 171694: '$179.3',\n",
       " 149334: '$17b',\n",
       " 181686: '$17b,',\n",
       " 83779: '$17bn',\n",
       " 159956: '$17bn,',\n",
       " 111076: '$17m',\n",
       " ...}"
      ]
     },
     "execution_count": 120,
     "metadata": {},
     "output_type": "execute_result"
    }
   ],
   "source": [
    "dict(sorted(dct.items(), key=lambda item: item[1]))"
   ]
  },
  {
   "cell_type": "code",
   "execution_count": 11,
   "metadata": {
    "collapsed": true,
    "jupyter": {
     "outputs_hidden": true
    }
   },
   "outputs": [
    {
     "name": "stdout",
     "output_type": "stream",
     "text": [
      "CPU times: user 5.83 s, sys: 625 ms, total: 6.45 s\n",
      "Wall time: 6.51 s\n"
     ]
    }
   ],
   "source": [
    "%time corpus = [dct.doc2bow(title) for title in titles_processed]\n",
    "print('Number of documents: %d' % len(corpus))"
   ]
  },
  {
   "cell_type": "markdown",
   "metadata": {},
   "source": [
    "## Step 4: Train the LDA model"
   ]
  },
  {
   "cell_type": "code",
   "execution_count": null,
   "metadata": {},
   "outputs": [],
   "source": [
    "%time lda_model = LdaMulticore(corpus=corpus,\n",
    "                               id2word=dct,\n",
    "                               random_state=100,\n",
    "                               num_topics=9,          # 9 categories\n",
    "                               passes=10,\n",
    "                               chunksize=1000,\n",
    "                               batch=False,\n",
    "                               alpha='asymmetric',\n",
    "                               decay=0.5,\n",
    "                               offset=64,\n",
    "                               eta=None,\n",
    "                               eval_every=0,\n",
    "                               iterations=100,\n",
    "                               gamma_threshold=0.001,\n",
    "                               per_word_topics=True)\n",
    "\n",
    "# save the model\n",
    "lda_model.save('lda_model.model')"
   ]
  },
  {
   "cell_type": "code",
   "execution_count": null,
   "metadata": {},
   "outputs": [],
   "source": [
    "# See the topics\n",
    "lda_model.print_topics(-1)"
   ]
  },
  {
   "cell_type": "code",
   "execution_count": null,
   "metadata": {},
   "outputs": [],
   "source": []
  },
  {
   "cell_type": "markdown",
   "metadata": {},
   "source": [
    "# Scratch Work"
   ]
  },
  {
   "cell_type": "raw",
   "metadata": {},
   "source": [
    "import re\n",
    "# tokenizer = nltk.RegexpTokenizer(r\"\\w+\") # words only\n",
    "\n",
    "re1 = r\"\\w+\"                      # words only\n",
    "re2 = r\"\\$\"                       # dollars\n",
    "re3 = r\"#[0-9]*\\w+\"               # hashtags\n",
    "re4 = r\"\\/[r]/\\w+\"                # subreddits\n",
    "\n",
    "generic_re = re.compile(\"(%s|%s|%s|%s)\" % (re1, re2, re3, re4))\n",
    "tokenizer = nltk.RegexpTokenizer(generic_re)\n",
    "\n",
    "test_remove = \"economy: !!! !! .... --- a aaa !!enjoy,thanks!! u.n \\x07illegal\"\n",
    "test_dollar = \"$1,000,000 $1m $17.5-billion $160billion $125/each! $16-billion-a-year  $13(£8) $100,000? $100+m/year\"\n",
    "test_hashred = \"(#syria) #48kmarch: /r/legalnews\" \n",
    "\n",
    "print(tokenizer.tokenize(test_remove))\n",
    "print(tokenizer.tokenize(test_dollar))\n",
    "print(tokenizer.tokenize(test_hashred))"
   ]
  },
  {
   "cell_type": "code",
   "execution_count": 313,
   "metadata": {},
   "outputs": [],
   "source": [
    "x = {'title': [test_remove, test_dollar, test_hashred]}\n",
    "ah = pd.DataFrame(x)"
   ]
  },
  {
   "cell_type": "code",
   "execution_count": 315,
   "metadata": {},
   "outputs": [
    {
     "data": {
      "text/plain": [
       "0                                                                       economy a aaa enjoy thanks u n illegal\n",
       "1    $ 1 000 000 $ 1m $ 17 5 billion $ 160billion $ 125 each $ 16 billion a year $ 13 8 $ 100 000 $ 100 m year\n",
       "2                                                                                #syria #48kmarch /r/legalnews\n",
       "Name: title, dtype: object"
      ]
     },
     "execution_count": 315,
     "metadata": {},
     "output_type": "execute_result"
    }
   ],
   "source": [
    "ahh = ah.title.apply(lambda x: ' '.join(re.findall(generic_re, x)))\n",
    "ahh"
   ]
  }
 ],
 "metadata": {
  "kernelspec": {
   "display_name": "Python 3",
   "language": "python",
   "name": "python3"
  },
  "language_info": {
   "codemirror_mode": {
    "name": "ipython",
    "version": 3
   },
   "file_extension": ".py",
   "mimetype": "text/x-python",
   "name": "python",
   "nbconvert_exporter": "python",
   "pygments_lexer": "ipython3",
   "version": "3.8.3"
  }
 },
 "nbformat": 4,
 "nbformat_minor": 4
}
